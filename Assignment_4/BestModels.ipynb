{
 "cells": [
  {
   "cell_type": "code",
   "execution_count": 1,
   "metadata": {},
   "outputs": [],
   "source": [
    "import copy\n",
    "import numpy as np\n",
    "import pandas as pd\n",
    "from sklearn import preprocessing\n",
    "import random\n",
    "import math\n",
    "from sklearn.metrics import f1_score, accuracy_score,roc_curve,auc\n",
    "from sklearn.model_selection import train_test_split,KFold,cross_val_score\n",
    "import matplotlib.pyplot as mt\n",
    "\n",
    "from sklearn.tree import DecisionTreeClassifier,export_graphviz\n",
    "from sklearn.externals import joblib"
   ]
  },
  {
   "cell_type": "code",
   "execution_count": 2,
   "metadata": {},
   "outputs": [
    {
     "name": "stdout",
     "output_type": "stream",
     "text": [
      "(1000, 20) (1000,)\n",
      "(800, 20) (200, 20) (800,) (200,)\n"
     ]
    }
   ],
   "source": [
    "filename='./german_credit.csv'\n",
    "data = pd.read_csv(filename)\n",
    "\n",
    "data.columns\n",
    "\n",
    "Y=data['Creditability']\n",
    "X=data.drop(['Creditability'],axis=1)\n",
    "\n",
    "print(X.shape,Y.shape)\n",
    "\n",
    "X_train, X_test,Y_train,Y_test = train_test_split(X, Y, test_size=0.2,random_state=27)\n",
    "print(X_train.shape,X_test.shape,Y_train.shape,Y_test.shape)"
   ]
  },
  {
   "cell_type": "code",
   "execution_count": 5,
   "metadata": {},
   "outputs": [
    {
     "data": {
      "text/plain": [
       "0.745"
      ]
     },
     "execution_count": 5,
     "metadata": {},
     "output_type": "execute_result"
    }
   ],
   "source": [
    "decisionBestModel=joblib.load('./decisionTreeBestModel.joblib')\n",
    "ytestPredicted=decisionBestModel.predict(X_test)\n",
    "accuracy_score(Y_test,ytestPredicted)"
   ]
  },
  {
   "cell_type": "code",
   "execution_count": 6,
   "metadata": {},
   "outputs": [
    {
     "data": {
      "text/plain": [
       "0.775"
      ]
     },
     "execution_count": 6,
     "metadata": {},
     "output_type": "execute_result"
    }
   ],
   "source": [
    "randomBestModel=joblib.load('./randomForestBestModel.joblib')\n",
    "ytestPredicted=randomBestModel.predict(X_test)\n",
    "accuracy_score(Y_test,ytestPredicted)"
   ]
  },
  {
   "cell_type": "code",
   "execution_count": null,
   "metadata": {},
   "outputs": [],
   "source": []
  }
 ],
 "metadata": {
  "kernelspec": {
   "display_name": "Python 3",
   "language": "python",
   "name": "python3"
  },
  "language_info": {
   "codemirror_mode": {
    "name": "ipython",
    "version": 3
   },
   "file_extension": ".py",
   "mimetype": "text/x-python",
   "name": "python",
   "nbconvert_exporter": "python",
   "pygments_lexer": "ipython3",
   "version": "3.6.7"
  }
 },
 "nbformat": 4,
 "nbformat_minor": 2
}

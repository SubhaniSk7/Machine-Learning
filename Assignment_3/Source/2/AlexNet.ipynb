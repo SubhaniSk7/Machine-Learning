{
 "cells": [
  {
   "cell_type": "code",
   "execution_count": 14,
   "metadata": {},
   "outputs": [],
   "source": [
    "import numpy as np\n",
    "\n",
    "from sklearn import svm\n",
    "from sklearn.decomposition import PCA\n",
    "from sklearn.metrics import accuracy_score\n",
    "from sklearn.metrics import roc_curve,auc\n",
    "from sklearn import metrics\n",
    "from sklearn.metrics import confusion_matrix\n",
    "\n",
    "import matplotlib.pyplot as mt\n",
    "\n",
    "import torch\n",
    "import torch.nn as nn\n",
    "import torchvision\n",
    "import torchvision.models as models\n",
    "import torchvision.transforms as transforms\n",
    "from torch.autograd import Variable\n",
    "import torchvision.transforms.functional as F\n",
    "\n",
    "import pickle\n",
    "from PIL import Image"
   ]
  },
  {
   "cell_type": "code",
   "execution_count": 15,
   "metadata": {},
   "outputs": [],
   "source": [
    "def extractFromPickle(file): # extract data from Pickle file \n",
    "    with open(file, 'rb') as fo:\n",
    "        rawData = pickle.load(fo, encoding='bytes')\n",
    "    return rawData"
   ]
  },
  {
   "cell_type": "code",
   "execution_count": 41,
   "metadata": {},
   "outputs": [],
   "source": [
    "train_path = '../train_CIFAR.pickle' # train file\n",
    "train_data = extractFromPickle(train_path)\n",
    "test_path = '../test_CIFAR.pickle' # test file\n",
    "test_data = extractFromPickle(test_path)"
   ]
  },
  {
   "cell_type": "code",
   "execution_count": 59,
   "metadata": {},
   "outputs": [],
   "source": [
    "CIFAR_X_train = train_data[\"X\"]\n",
    "CIFAR_Y_train = train_data[\"Y\"]\n",
    "CIFAR_X_test = test_data[\"X\"]\n",
    "CIFAR_Y_test = test_data[\"Y\"]"
   ]
  },
  {
   "cell_type": "code",
   "execution_count": 43,
   "metadata": {},
   "outputs": [
    {
     "name": "stdout",
     "output_type": "stream",
     "text": [
      "(10000, 32, 32, 3) (2000, 32, 32, 3)\n"
     ]
    }
   ],
   "source": [
    "X_train = CIFAR_X_train\n",
    "X_train = X_train.reshape(10000,3,32,32).transpose(0,2,3,1) # changing dimension\n",
    "X_test = CIFAR_X_test\n",
    "X_test = X_test.reshape(2000,3,32,32).transpose(0,2,3,1)\n",
    "print(X_train.shape,X_test.shape)"
   ]
  },
  {
   "cell_type": "code",
   "execution_count": 44,
   "metadata": {},
   "outputs": [
    {
     "data": {
      "text/plain": [
       "AlexNet(\n",
       "  (features): Sequential(\n",
       "    (0): Conv2d(3, 64, kernel_size=(11, 11), stride=(4, 4), padding=(2, 2))\n",
       "    (1): ReLU(inplace)\n",
       "    (2): MaxPool2d(kernel_size=3, stride=2, padding=0, dilation=1, ceil_mode=False)\n",
       "    (3): Conv2d(64, 192, kernel_size=(5, 5), stride=(1, 1), padding=(2, 2))\n",
       "    (4): ReLU(inplace)\n",
       "    (5): MaxPool2d(kernel_size=3, stride=2, padding=0, dilation=1, ceil_mode=False)\n",
       "    (6): Conv2d(192, 384, kernel_size=(3, 3), stride=(1, 1), padding=(1, 1))\n",
       "    (7): ReLU(inplace)\n",
       "    (8): Conv2d(384, 256, kernel_size=(3, 3), stride=(1, 1), padding=(1, 1))\n",
       "    (9): ReLU(inplace)\n",
       "    (10): Conv2d(256, 256, kernel_size=(3, 3), stride=(1, 1), padding=(1, 1))\n",
       "    (11): ReLU(inplace)\n",
       "    (12): MaxPool2d(kernel_size=3, stride=2, padding=0, dilation=1, ceil_mode=False)\n",
       "  )\n",
       "  (classifier): Sequential(\n",
       "    (0): Dropout(p=0.5)\n",
       "    (1): Linear(in_features=9216, out_features=4096, bias=True)\n",
       "    (2): ReLU(inplace)\n",
       "    (3): Dropout(p=0.5)\n",
       "    (4): Linear(in_features=4096, out_features=4096, bias=True)\n",
       "    (5): ReLU(inplace)\n",
       "    (6): Linear(in_features=4096, out_features=1000, bias=True)\n",
       "  )\n",
       ")"
      ]
     },
     "execution_count": 44,
     "metadata": {},
     "output_type": "execute_result"
    }
   ],
   "source": [
    "alexnet = models.alexnet(pretrained=True) # alexnet--> pretrained model\n",
    "alexnet"
   ]
  },
  {
   "cell_type": "code",
   "execution_count": 45,
   "metadata": {},
   "outputs": [],
   "source": [
    "# transforming the images with standard parameters\n",
    "apply_transform = transforms.Compose([\n",
    "    transforms.Resize((227, 4096)),\n",
    "    transforms.ToTensor(),\n",
    "    transforms.Normalize(mean=[0.485, 0.456, 0.406], std=[0.229, 0.224, 0.225]),\n",
    "])"
   ]
  },
  {
   "cell_type": "code",
   "execution_count": 46,
   "metadata": {},
   "outputs": [],
   "source": [
    "# feature extraction --> vector\n",
    "def getVector(image):\n",
    "    t_img = Variable(apply_transform(image)).unsqueeze(0)\n",
    "    output = alexnet.classifier[6](t_img).detach().numpy().ravel()\n",
    "    return output"
   ]
  },
  {
   "cell_type": "code",
   "execution_count": 47,
   "metadata": {},
   "outputs": [],
   "source": [
    "# images for train loading\n",
    "img = []\n",
    "for i in range(100):\n",
    "    img.append(Image.fromarray(np.uint8(X_train[i])))"
   ]
  },
  {
   "cell_type": "code",
   "execution_count": 48,
   "metadata": {},
   "outputs": [
    {
     "data": {
      "text/plain": [
       "[array([-3.7891521 , -3.6465735 , -2.502182  , ...,  0.7252683 ,\n",
       "        -0.92291474, -1.3890216 ], dtype=float32),\n",
       " array([-0.83068347,  0.5427722 ,  0.9590305 , ...,  4.3881207 ,\n",
       "        -5.524552  , -7.214411  ], dtype=float32),\n",
       " array([-6.509696  , -6.5835776 , -4.3020487 , ..., -2.3036025 ,\n",
       "         0.04658264,  4.2700887 ], dtype=float32),\n",
       " array([-0.480734  , -0.37604654, -0.26815718, ..., -0.30284867,\n",
       "         0.47090805,  0.64071554], dtype=float32),\n",
       " array([ 4.389064 ,  5.042168 ,  3.6276233, ..., -2.8183482,  4.4528646,\n",
       "         5.5234685], dtype=float32),\n",
       " array([-9.211034 , -9.186909 , -6.1386395, ...,  3.5846238, -5.5228353,\n",
       "        -6.740527 ], dtype=float32),\n",
       " array([-1.3634087, -1.0419294, -0.7115019, ...,  2.4239845, -4.269931 ,\n",
       "        -5.2790036], dtype=float32),\n",
       " array([ 4.4561996,  2.938081 ,  2.3101883, ..., -1.6976565,  5.0333786,\n",
       "         3.9766316], dtype=float32),\n",
       " array([ 4.0550914,  4.2427993,  2.733053 , ...,  0.995495 , -1.1971126,\n",
       "        -2.1919122], dtype=float32),\n",
       " array([-9.250909 , -9.686194 , -5.9960394, ..., -7.3143463, 11.187738 ,\n",
       "        14.230706 ], dtype=float32),\n",
       " array([-3.445119 , -1.4308013, -1.080957 , ...,  1.9191207, -4.3325024,\n",
       "        -3.4469903], dtype=float32),\n",
       " array([-2.0998085, -2.5279438, -1.4685746, ..., -3.0776298,  4.777966 ,\n",
       "         6.060183 ], dtype=float32),\n",
       " array([ 1.1521809 ,  0.84082335,  2.0617552 , ...,  2.9152262 ,\n",
       "        -3.6566806 , -4.478327  ], dtype=float32),\n",
       " array([-0.75828564, -0.34567076, -0.573759  , ..., -3.4412212 ,\n",
       "         6.201661  ,  6.9427557 ], dtype=float32),\n",
       " array([ 4.06661  ,  2.3770757,  2.0316255, ..., -0.4696757,  0.8735422,\n",
       "         0.938812 ], dtype=float32),\n",
       " array([ 4.739988 ,  4.388135 ,  2.9585452, ...,  2.8380947, -4.587572 ,\n",
       "        -5.7137527], dtype=float32),\n",
       " array([-9.232756 , -9.396078 , -6.267335 , ...,  1.9997833, -3.3615859,\n",
       "        -3.7829857], dtype=float32),\n",
       " array([-1.1885437 , -1.2790787 , -0.81977564, ...,  1.9501631 ,\n",
       "        -3.2168262 , -3.8711984 ], dtype=float32),\n",
       " array([-5.4295   , -5.3769703, -3.595931 , ...,  1.4092927, -3.4294488,\n",
       "        -3.207473 ], dtype=float32),\n",
       " array([ 3.4768455 ,  2.5350025 ,  0.48981974, ...,  2.5958533 ,\n",
       "        -5.7406282 , -5.231753  ], dtype=float32),\n",
       " array([ 0.23684204, -1.5666955 ,  0.31365892, ...,  1.4043089 ,\n",
       "         0.42200258, -1.5536293 ], dtype=float32),\n",
       " array([ 2.9087546,  1.102261 ,  1.1288207, ...,  3.9044795, -4.502225 ,\n",
       "        -6.477958 ], dtype=float32),\n",
       " array([-9.534674, -9.691642, -6.372048, ..., -7.211177, 11.482061,\n",
       "        14.227554], dtype=float32),\n",
       " array([ 0.61773515,  0.673572  ,  0.40176183, ..., -0.47668606,\n",
       "         1.0206889 ,  1.2068877 ], dtype=float32),\n",
       " array([-7.014838  , -7.0942197 , -4.6876907 , ...,  0.7042158 ,\n",
       "        -0.6766294 , -0.65862846], dtype=float32),\n",
       " array([ 0.30502453, -0.3514882 ,  0.528969  , ...,  0.40927723,\n",
       "        -3.814137  , -2.7118905 ], dtype=float32),\n",
       " array([-7.181685 , -6.4655256, -4.0781465, ..., -1.7465851,  3.543724 ,\n",
       "         3.9303794], dtype=float32),\n",
       " array([-4.8351283, -5.727647 , -3.6135437, ..., -0.2562535,  0.2548778,\n",
       "         0.6070824], dtype=float32),\n",
       " array([ 0.8800874 ,  0.81417716,  0.5451526 , ..., -5.041915  ,\n",
       "         7.6309814 ,  9.077155  ], dtype=float32),\n",
       " array([ 8.710435 ,  8.8980255,  5.8132434, ...,  5.0172596, -7.9013314,\n",
       "        -9.69375  ], dtype=float32),\n",
       " array([ 4.2466974,  3.4761395,  2.5809877, ...,  2.7743545, -3.6792135,\n",
       "        -5.534178 ], dtype=float32),\n",
       " array([-4.7392855, -5.0234237, -3.5449605, ...,  2.1362374, -3.9398031,\n",
       "        -4.0401397], dtype=float32),\n",
       " array([-4.7900004 , -4.7299113 , -3.0378637 , ...,  0.03267372,\n",
       "         0.15314168,  0.02279762], dtype=float32),\n",
       " array([-9.637459 , -9.773426 , -6.438453 , ..., -7.2534914, 11.476545 ,\n",
       "        14.220646 ], dtype=float32),\n",
       " array([-4.6408772, -4.917461 , -3.0000343, ...,  3.6181936, -5.846565 ,\n",
       "        -6.9949465], dtype=float32),\n",
       " array([ 1.9568222,  4.6546283,  3.0862565, ...,  2.4938843, -3.4595933,\n",
       "        -4.140875 ], dtype=float32),\n",
       " array([-4.4502306 , -3.989538  , -2.2490692 , ..., -0.03727388,\n",
       "         0.5044862 ,  0.26965672], dtype=float32),\n",
       " array([ 9.093183 ,  9.167711 ,  6.0037184, ...,  2.8628576, -2.7303672,\n",
       "        -5.369073 ], dtype=float32),\n",
       " array([-5.54191  , -4.6640306, -3.063985 , ...,  2.215335 , -3.4033897,\n",
       "        -4.119495 ], dtype=float32),\n",
       " array([-7.041138 , -7.246076 , -4.7604036, ...,  3.3631127, -4.273913 ,\n",
       "        -4.9598007], dtype=float32),\n",
       " array([ 2.506511 ,  2.637429 ,  1.658632 , ..., -1.2490077,  1.005433 ,\n",
       "         2.0877838], dtype=float32),\n",
       " array([-3.1347885 , -3.148486  , -2.0271356 , ..., -0.15308212,\n",
       "        -0.28812546,  0.00798321], dtype=float32),\n",
       " array([ 2.254439 ,  2.999636 ,  2.0614102, ...,  3.9955964, -2.2054029,\n",
       "        -4.855321 ], dtype=float32),\n",
       " array([ 0.73022085, -0.34277466, -0.6904728 , ...,  4.172258  ,\n",
       "        -2.842639  , -5.3228736 ], dtype=float32),\n",
       " array([ 2.4140248,  1.8779277,  1.0268313, ..., -4.4290805,  9.982253 ,\n",
       "        10.847934 ], dtype=float32),\n",
       " array([ 2.7214837,  2.8118896,  1.8143499, ..., -6.643728 , 10.446016 ,\n",
       "        13.195738 ], dtype=float32),\n",
       " array([ 5.279381 ,  6.310843 ,  4.0379686, ..., -1.850468 ,  3.5209556,\n",
       "         3.9401703], dtype=float32),\n",
       " array([-8.469241  , -8.27552   , -5.6827636 , ..., -0.35650328,\n",
       "        -1.9041063 , -0.13816929], dtype=float32),\n",
       " array([-9.561706 , -9.723947 , -6.4163294, ..., -5.585907 ,  7.194428 ,\n",
       "        11.367928 ], dtype=float32),\n",
       " array([-1.4235659 ,  0.5444951 ,  0.01525639, ..., -0.54053116,\n",
       "         0.55887455,  0.09996315], dtype=float32),\n",
       " array([ 0.05222105,  0.0632032 ,  0.02264837, ...,  0.70040053,\n",
       "        -1.5253878 , -1.5081449 ], dtype=float32),\n",
       " array([-0.28416595, -0.22196072, -0.10979737, ..., -0.88675886,\n",
       "         1.7992195 ,  2.0338848 ], dtype=float32),\n",
       " array([-6.103927 , -7.334607 , -4.5234356, ...,  1.4100752, -3.0414186,\n",
       "        -3.0858397], dtype=float32),\n",
       " array([ 0.6373899,  1.5574391,  0.7433058, ..., -0.6189324,  0.7586853,\n",
       "         1.2362013], dtype=float32),\n",
       " array([-6.2631145, -7.649429 , -4.53312  , ...,  1.2372566, -1.8934594,\n",
       "        -1.8103818], dtype=float32),\n",
       " array([-5.7666464, -4.275397 , -3.1682405, ...,  3.514182 , -5.4811063,\n",
       "        -6.180569 ], dtype=float32),\n",
       " array([ 4.4576483 ,  4.9640603 ,  3.072906  , ..., -2.9742136 ,\n",
       "         0.05899444,  3.360064  ], dtype=float32),\n",
       " array([ 3.0617402,  3.4439056,  2.3310368, ...,  2.0358598, -3.3469043,\n",
       "        -4.0179005], dtype=float32),\n",
       " array([-2.323174 , -2.1925936, -1.3191878, ..., -3.4983628,  5.482966 ,\n",
       "         6.9242234], dtype=float32),\n",
       " array([ 4.266946  ,  3.891305  ,  2.7966075 , ...,  0.8112515 ,\n",
       "        -0.33115208, -1.1192161 ], dtype=float32),\n",
       " array([ 6.468745 ,  9.226581 ,  5.301402 , ..., -7.1973486, 11.42035  ,\n",
       "        14.179235 ], dtype=float32),\n",
       " array([-1.0768907, -1.4844352, -2.0326142, ...,  2.0336845, -2.8350186,\n",
       "        -3.7217026], dtype=float32),\n",
       " array([ 3.0837204 ,  0.6873662 , -0.38532045, ...,  1.7008115 ,\n",
       "        -0.4500702 , -1.2956235 ], dtype=float32),\n",
       " array([-6.1600785, -6.1389136, -4.2655234, ..., -2.4705293,  2.1026623,\n",
       "         4.717682 ], dtype=float32),\n",
       " array([ 1.4649844 ,  0.9344537 ,  0.5117254 , ..., -0.2015571 ,\n",
       "        -1.3263979 , -0.56576264], dtype=float32),\n",
       " array([-4.235574 , -4.3291025, -2.8904028, ...,  1.5915595, -1.4750348,\n",
       "        -2.3202488], dtype=float32),\n",
       " array([-4.334801 , -5.415235 , -2.5396974, ...,  3.9849355, -4.2811484,\n",
       "        -5.852434 ], dtype=float32),\n",
       " array([ 3.8837278 ,  5.1410894 ,  3.206298  , ..., -0.6561074 ,\n",
       "         0.08801541,  1.0695719 ], dtype=float32),\n",
       " array([ 2.1145384,  2.4898338,  1.3575382, ..., -2.689518 ,  4.5618486,\n",
       "         5.578727 ], dtype=float32),\n",
       " array([-0.36962646, -4.895081  , -2.5894248 , ...,  3.8731294 ,\n",
       "        -2.269869  , -5.6189747 ], dtype=float32),\n",
       " array([ 2.2423134,  2.448705 ,  3.5502625, ...,  2.8732321, -4.981468 ,\n",
       "        -5.435289 ], dtype=float32),\n",
       " array([-6.243786 , -7.148371 , -4.295286 , ..., -5.6243763,  9.599021 ,\n",
       "        11.366738 ], dtype=float32),\n",
       " array([-8.821148 , -8.983765 , -5.9356318, ...,  1.9140035, -2.6517117,\n",
       "        -3.385302 ], dtype=float32),\n",
       " array([ 5.6750374 ,  5.614817  ,  3.8078744 , ..., -1.8546394 ,\n",
       "         0.66484815,  3.0560482 ], dtype=float32),\n",
       " array([-3.831323 , -1.5981077, -2.2201445, ..., -1.8522509,  3.4840384,\n",
       "         3.8683124], dtype=float32),\n",
       " array([ 0.86400974,  1.1544999 ,  0.49069357, ..., -0.33296105,\n",
       "         0.32113764,  0.58572936], dtype=float32),\n",
       " array([-4.4413486, -4.410633 , -2.8968606, ..., -4.470096 ,  7.3110523,\n",
       "         8.926467 ], dtype=float32),\n",
       " array([-6.0308475, -6.113874 , -4.0303407, ..., -7.2772703, 10.044246 ,\n",
       "        13.044853 ], dtype=float32),\n",
       " array([ 0.30291024,  0.84100765,  0.17768934, ..., -3.8209257 ,\n",
       "         6.092072  ,  7.4244757 ], dtype=float32),\n",
       " array([ 0.68377835,  0.65952545,  0.33479774, ..., -2.944445  ,\n",
       "         4.599943  ,  5.7731285 ], dtype=float32),\n",
       " array([-3.0905719 , -3.6424778 , -2.019718  , ..., -0.6040059 ,\n",
       "         0.25460476,  0.94269913], dtype=float32),\n",
       " array([ 0.5573315 ,  0.2727988 , -0.15513794, ...,  0.15743014,\n",
       "         1.93348   ,  0.57315135], dtype=float32),\n",
       " array([-9.4083605, -9.526364 , -6.3182154, ..., -7.189043 , 10.717058 ,\n",
       "        13.746389 ], dtype=float32),\n",
       " array([-9.484115, -9.420326, -6.183771, ..., -7.165484, 11.185526,\n",
       "        13.89959 ], dtype=float32),\n",
       " array([ 3.822763 ,  3.972195 ,  2.5447946, ..., -3.5671523,  5.560387 ,\n",
       "         6.436864 ], dtype=float32),\n",
       " array([-4.082185  , -4.3380737 , -2.9671624 , ..., -0.02172832,\n",
       "         0.23105374,  0.70727456], dtype=float32),\n",
       " array([-7.039468 , -6.3416533, -4.2815924, ...,  0.6427533, -1.3902953,\n",
       "        -1.787802 ], dtype=float32),\n",
       " array([ 3.72642   ,  5.389118  ,  4.5737805 , ...,  0.11364865,\n",
       "        -0.10673524, -0.0442635 ], dtype=float32),\n",
       " array([-2.4062572, -1.9673239, -1.3686379, ..., -1.4786863,  3.0710828,\n",
       "         3.0961013], dtype=float32),\n",
       " array([-5.352716 , -5.2805834, -3.458782 , ...,  3.9537034, -6.6257477,\n",
       "        -7.8668885], dtype=float32),\n",
       " array([ 6.6380854,  6.7464714,  4.6102886, ..., -2.6725967,  1.8575908,\n",
       "         4.6532764], dtype=float32),\n",
       " array([-8.55769   , -8.637368  , -5.6985183 , ...,  0.71168417,\n",
       "         3.8913803 ,  1.5885948 ], dtype=float32),\n",
       " array([-4.370858 , -4.5359287, -2.9961624, ..., -4.008141 ,  6.294341 ,\n",
       "         7.6879945], dtype=float32),\n",
       " array([ 6.771903  ,  7.442654  ,  4.5517755 , ...,  0.81825495,\n",
       "        -0.58252466, -1.4013036 ], dtype=float32),\n",
       " array([-3.4658747, -3.4660857, -2.2926166, ...,  1.5613805, -2.4717512,\n",
       "        -2.9074118], dtype=float32),\n",
       " array([-9.278391 , -9.511823 , -6.264237 , ..., -7.1722226, 11.457625 ,\n",
       "        14.127035 ], dtype=float32),\n",
       " array([7.742615  , 7.763439  , 5.0711827 , ..., 0.01235477, 0.4380297 ,\n",
       "        0.2950228 ], dtype=float32),\n",
       " array([ 6.593551 ,  6.2604985,  4.5078483, ..., -5.58368  ,  9.667068 ,\n",
       "        10.793018 ], dtype=float32),\n",
       " array([ 3.8532171,  4.11792  ,  2.6441574, ...,  2.4937303, -2.0341632,\n",
       "        -3.3445742], dtype=float32),\n",
       " array([-8.282514  , -8.477829  , -5.4683127 , ...,  0.58219373,\n",
       "        -0.397172  , -0.7143687 ], dtype=float32)]"
      ]
     },
     "execution_count": 48,
     "metadata": {},
     "output_type": "execute_result"
    }
   ],
   "source": [
    "# getting feature vector\n",
    "featureVector = []\n",
    "for i in range(len(img)):\n",
    "    featureVector.append((getVector(img[i])))\n",
    "\n",
    "featureVector"
   ]
  },
  {
   "cell_type": "code",
   "execution_count": 50,
   "metadata": {},
   "outputs": [],
   "source": [
    "# selecting 10% of test images\n",
    "testImg = []\n",
    "for i in range(10):\n",
    "    testImg.append(Image.fromarray(np.uint8(X_test[i])))"
   ]
  },
  {
   "cell_type": "code",
   "execution_count": 51,
   "metadata": {},
   "outputs": [],
   "source": [
    "# getting test images feature vector\n",
    "testFeatures = []\n",
    "for i in range(len(testImg)):\n",
    "    testFeatures.append((getVector(testImg[i])))"
   ]
  },
  {
   "cell_type": "code",
   "execution_count": 52,
   "metadata": {},
   "outputs": [],
   "source": [
    "# PCA--> Principal Component Analysis\n",
    "pca = PCA(n_components=2)\n",
    "pcaTrain = pca.fit_transform(featureVector)\n",
    "pcaTest = pca.fit_transform(testFeatures)"
   ]
  },
  {
   "cell_type": "code",
   "execution_count": 66,
   "metadata": {},
   "outputs": [
    {
     "data": {
      "text/plain": [
       "SVC(C=1, cache_size=200, class_weight=None, coef0=0.0,\n",
       "  decision_function_shape='ovr', degree=3, gamma='auto', kernel='linear',\n",
       "  max_iter=-1, probability=False, random_state=None, shrinking=True,\n",
       "  tol=0.001, verbose=False)"
      ]
     },
     "execution_count": 66,
     "metadata": {},
     "output_type": "execute_result"
    }
   ],
   "source": [
    "# Training using Linear SVM\n",
    "model = svm.SVC(kernel ='linear', C=1)\n",
    "\n",
    "y_train_subset = []\n",
    "for i in range(100):\n",
    "    y_train_subset.append(CIFAR_Y_train[i])\n",
    "    \n",
    "model.fit(pcaTrain, y_train_subset)"
   ]
  },
  {
   "cell_type": "code",
   "execution_count": 68,
   "metadata": {},
   "outputs": [],
   "source": [
    "yPredicted = model.predict(pcaTest) # predicted values"
   ]
  },
  {
   "cell_type": "code",
   "execution_count": 69,
   "metadata": {},
   "outputs": [
    {
     "data": {
      "text/plain": [
       "0.4"
      ]
     },
     "execution_count": 69,
     "metadata": {},
     "output_type": "execute_result"
    }
   ],
   "source": [
    "y_test_actual = []\n",
    "for i in range(10):\n",
    "    y_test_actual.append(CIFAR_Y_test[i])\n",
    "accuracy_score(y_test_actual,yPredicted)"
   ]
  },
  {
   "cell_type": "code",
   "execution_count": 70,
   "metadata": {},
   "outputs": [
    {
     "name": "stderr",
     "output_type": "stream",
     "text": [
      "/opt/anaconda3/lib/python3.7/site-packages/sklearn/metrics/ranking.py:571: UndefinedMetricWarning: No positive samples in y_true, true positive value should be meaningless\n",
      "  UndefinedMetricWarning)\n"
     ]
    }
   ],
   "source": [
    "#FP=false positive; TP=true positive; thresholds\n",
    "\n",
    "FP, TP, thresholds = metrics.roc_curve(y_test_actual, yPredicted, pos_label=2)"
   ]
  },
  {
   "cell_type": "code",
   "execution_count": 71,
   "metadata": {},
   "outputs": [],
   "source": [
    "TP = [0]*len(TP)\n",
    "\n",
    "roc_auc=auc(FP,TP) # roc_curve "
   ]
  },
  {
   "cell_type": "code",
   "execution_count": 72,
   "metadata": {},
   "outputs": [
    {
     "data": {
      "text/plain": [
       "array([[2, 4],\n",
       "       [2, 2]])"
      ]
     },
     "execution_count": 72,
     "metadata": {},
     "output_type": "execute_result"
    }
   ],
   "source": [
    "confusion_matrix(y_test_actual, yPredicted) # constructing confusion matrix"
   ]
  },
  {
   "cell_type": "code",
   "execution_count": 73,
   "metadata": {},
   "outputs": [
    {
     "data": {
      "image/png": "[encoded data removed]",
      "text/plain": [
       "<Figure size 432x288 with 1 Axes>"
      ]
     },
     "metadata": {
      "needs_background": "light"
     },
     "output_type": "display_data"
    }
   ],
   "source": [
    "mt.plot(FP, TP, color='darkorange',\n",
    "         label='ROC curve (area = %0.2f)' % roc_auc)\n",
    "mt.plot([0, 1], [0, 1], color='navy', linestyle='--')\n",
    "\n",
    "mt.xlim([0.0, 1.0])\n",
    "mt.ylim([0.0, 1.05])\n",
    "mt.ylabel('True-Positive')\n",
    "mt.xlabel('False-Positive')\n",
    "\n",
    "mt.title('Receiver operating characteristic example')\n",
    "mt.legend(loc=\"upper right\")\n",
    "\n",
    "mt.show()"
   ]
  },
  {
   "cell_type": "code",
   "execution_count": null,
   "metadata": {},
   "outputs": [],
   "source": []
  }
 ],
 "metadata": {
  "kernelspec": {
   "display_name": "Python 3",
   "language": "python",
   "name": "python3"
  },
  "language_info": {
   "codemirror_mode": {
    "name": "ipython",
    "version": 3
   },
   "file_extension": ".py",
   "mimetype": "text/x-python",
   "name": "python",
   "nbconvert_exporter": "python",
   "pygments_lexer": "ipython3",
   "version": "3.7.0"
  }
 },
 "nbformat": 4,
 "nbformat_minor": 2
}

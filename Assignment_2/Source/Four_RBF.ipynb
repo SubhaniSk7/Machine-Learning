{
 "cells": [
  {
   "cell_type": "markdown",
   "metadata": {},
   "source": [
    "# imports"
   ]
  },
  {
   "cell_type": "code",
   "execution_count": 1,
   "metadata": {},
   "outputs": [],
   "source": [
    "import copy\n",
    "import sklearn.linear_model\n",
    "from sklearn.model_selection import train_test_split\n",
    "import matplotlib.pyplot as mt\n",
    "import numpy as np\n",
    "from sklearn import svm\n",
    "import h5py\n",
    "from sklearn.metrics import f1_score\n",
    "from mlxtend.plotting import plot_decision_regions\n",
    "from sklearn.metrics.pairwise import rbf_kernel"
   ]
  },
  {
   "cell_type": "markdown",
   "metadata": {},
   "source": [
    "# Dataset loading"
   ]
  },
  {
   "cell_type": "code",
   "execution_count": 2,
   "metadata": {},
   "outputs": [],
   "source": [
    "data1 = h5py.File('/mnt/Education/Sem1/ML/Assignments/Assignment_2/hw-2_20119/data_1.h5', 'r+')\n",
    "data2 = h5py.File('/mnt/Education/Sem1/ML/Assignments/Assignment_2/hw-2_20119/data_2.h5', 'r+')\n",
    "data3 = h5py.File('/mnt/Education/Sem1/ML/Assignments/Assignment_2/hw-2_20119/data_3.h5', 'r+')\n",
    "data4 = h5py.File('/mnt/Education/Sem1/ML/Assignments/Assignment_2/hw-2_20119/data_4.h5', 'r+')"
   ]
  },
  {
   "cell_type": "markdown",
   "metadata": {},
   "source": [
    "# Predict functions"
   ]
  },
  {
   "cell_type": "code",
   "execution_count": 3,
   "metadata": {},
   "outputs": [],
   "source": [
    "# ------------------------------------------------------------------\n",
    "\n",
    "def predict(coeff, inner, b):\n",
    "    ans = sum(coeff * inner) + b\n",
    "    #     ans=0\n",
    "    #     for i in range(shape):\n",
    "    #         temp=((coeff[i]*inner[i])+inter)\n",
    "    #         ans=ans+temp\n",
    "    #         temp=0\n",
    "    # #         print(\"ans is;;;;;;;;;\",ans)\n",
    "\n",
    "    return ans\n",
    "\n",
    "\n",
    "def predict_3(x):\n",
    "    pass\n",
    "\n",
    "\n",
    "def predict_4(alphas, query, b):\n",
    "    prod = np.dot(alphas, query.T)\n",
    "    s = prod + b\n",
    "    return s\n",
    "\n",
    "\n",
    "\n",
    "# ------------------------------------------------------------------"
   ]
  },
  {
   "cell_type": "markdown",
   "metadata": {},
   "source": [
    "# Data_1"
   ]
  },
  {
   "cell_type": "code",
   "execution_count": 4,
   "metadata": {},
   "outputs": [
    {
     "name": "stdout",
     "output_type": "stream",
     "text": [
      "(100, 2)\n",
      "(100,)\n"
     ]
    }
   ],
   "source": [
    "# print(list(data1.keys()))\n",
    "data1_X = data1['x']\n",
    "data1_Y = data1['y']\n",
    "\n",
    "data1X_Values = np.array(data1_X.value)\n",
    "data1Y_Values = np.array(data1_Y.value)\n",
    "print(data1X_Values.shape)\n",
    "print(data1Y_Values.shape)\n",
    "\n",
    "data1X_train, data1X_test, data1Y_train, data1Y_test = train_test_split(data1X_Values, data1Y_Values, test_size=0.2,\n",
    "                                                                        random_state=20)"
   ]
  },
  {
   "cell_type": "code",
   "execution_count": 5,
   "metadata": {},
   "outputs": [
    {
     "name": "stderr",
     "output_type": "stream",
     "text": [
      "/home/subhani007/.local/lib/python3.6/site-packages/sklearn/svm/base.py:196: FutureWarning: The default value of gamma will change from 'auto' to 'scale' in version 0.22 to account better for unscaled features. Set gamma explicitly to 'auto' or 'scale' to avoid this warning.\n",
      "  \"avoid this warning.\", FutureWarning)\n"
     ]
    },
    {
     "data": {
      "text/plain": [
       "SVC(C=1.0, cache_size=200, class_weight=None, coef0=0.0,\n",
       "  decision_function_shape='ovr', degree=3, gamma='auto_deprecated',\n",
       "  kernel='rbf', max_iter=-1, probability=False, random_state=None,\n",
       "  shrinking=True, tol=0.001, verbose=False)"
      ]
     },
     "execution_count": 5,
     "metadata": {},
     "output_type": "execute_result"
    }
   ],
   "source": [
    "model1 = svm.SVC(kernel='rbf')\n",
    "\n",
    "model1.fit(data1X_train, data1Y_train)\n",
    "\n",
    "# print(model1)"
   ]
  },
  {
   "cell_type": "code",
   "execution_count": 6,
   "metadata": {},
   "outputs": [
    {
     "name": "stdout",
     "output_type": "stream",
     "text": [
      "inbuilt f1 for model1: 1.0\n"
     ]
    }
   ],
   "source": [
    "print('inbuilt f1 for model1:', f1_score(data1Y_test, model1.predict(data1X_test)))"
   ]
  },
  {
   "cell_type": "code",
   "execution_count": 7,
   "metadata": {},
   "outputs": [
    {
     "name": "stdout",
     "output_type": "stream",
     "text": [
      "intercept: [-2.6212776]\n",
      "(80, 20)\n",
      "my f1 for model1: 1.0\n"
     ]
    }
   ],
   "source": [
    "bias1 = model1.intercept_\n",
    "print('intercept:', bias1)\n",
    "svIndex = model1.support_\n",
    "# print(svIndex)\n",
    "\n",
    "alphas1 = model1.dual_coef_\n",
    "\n",
    "alp = [0] * data1X_train.shape[0]\n",
    "for i in range(0, len(svIndex)):\n",
    "    alp[svIndex[i]] = alphas1[0][i]\n",
    "# print(alp)\n",
    "\n",
    "alphas1 = alp\n",
    "alphas1 = np.asarray(alphas1)\n",
    "sm1 = rbf_kernel(data1X_train, data1X_test, gamma=0.7)\n",
    "\n",
    "print(sm1.shape)\n",
    "out1 = []\n",
    "for i in range(0, len(data1X_test)):\n",
    "    inner = sm1[:, i]\n",
    "    cls = predict(alphas1, inner, bias1)  # my predict function\n",
    "    if (cls >= 0):\n",
    "        out1.append(1)\n",
    "    else:\n",
    "        out1.append(0)\n",
    "\n",
    "print('my f1 for model1:', f1_score(data1Y_test, out1))"
   ]
  },
  {
   "cell_type": "code",
   "execution_count": 8,
   "metadata": {},
   "outputs": [
    {
     "name": "stdout",
     "output_type": "stream",
     "text": [
      "(200, 200) (200, 200) (200, 200)\n",
      "bias1: [-2.6212776]\n"
     ]
    }
   ],
   "source": [
    "x_min = -3\n",
    "x_max = 3\n",
    "y_min = -3\n",
    "y_max = 3\n",
    "\n",
    "X = data1X_train\n",
    "Y = data1Y_train\n",
    "\n",
    "XX, YY = np.mgrid[x_min:x_max:200j, y_min:y_max:200j]\n",
    "\n",
    "inp = np.c_[XX.ravel(), YY.ravel()]\n",
    "\n",
    "sm1 = rbf_kernel(data1X_train, inp, gamma=0.7)\n",
    "\n",
    "Z = []\n",
    "for i in range(0, len(inp)):\n",
    "    inner = sm1[:, i]\n",
    "    cls = predict(alphas1, inner, bias1)  # my predict function\n",
    "    Z.append(cls)\n",
    "\n",
    "# Z = model1.decision_function(inp)\n",
    "\n",
    "Z = np.asarray(Z)\n",
    "Z = Z.reshape(XX.shape)\n",
    "\n",
    "print(XX.shape, YY.shape, Z.shape)\n",
    "print('bias1:', bias1)"
   ]
  },
  {
   "cell_type": "code",
   "execution_count": 13,
   "metadata": {},
   "outputs": [
    {
     "name": "stderr",
     "output_type": "stream",
     "text": [
      "/home/subhani007/.local/lib/python3.6/site-packages/matplotlib/contour.py:1243: UserWarning: No contour levels were found within the data range.\n",
      "  warnings.warn(\"No contour levels were found\"\n"
     ]
    },
    {
     "name": "stdout",
     "output_type": "stream",
     "text": [
      "-------------------------------------------\n"
     ]
    },
    {
     "data": {
      "image/png": "[encoded data removed]",
      "text/plain": [
       "<Figure size 432x288 with 1 Axes>"
      ]
     },
     "metadata": {},
     "output_type": "display_data"
    }
   ],
   "source": [
    "# mt.subplot(221)\n",
    "mt.pcolormesh(XX, YY, Z > 0, cmap=mt.cm.Paired)\n",
    "mt.contour(XX, YY, Z > 0, colors=['k', 'k', 'k'], linestyles=['--', '-', '--'], levels=[-bias1, 0, bias1])\n",
    "\n",
    "mt.scatter(X[:, 0], X[:, 1], c=Y)\n",
    "\n",
    "mt.xlim(x_min, x_max)\n",
    "mt.ylim(y_min, y_max)\n",
    "mt.xticks(())\n",
    "mt.yticks(())\n",
    "mt.axis('tight')\n",
    "\n",
    "print('-------------------------------------------')"
   ]
  },
  {
   "cell_type": "code",
   "execution_count": null,
   "metadata": {},
   "outputs": [],
   "source": []
  },
  {
   "cell_type": "markdown",
   "metadata": {},
   "source": [
    "# Data_2"
   ]
  },
  {
   "cell_type": "code",
   "execution_count": 14,
   "metadata": {},
   "outputs": [
    {
     "name": "stdout",
     "output_type": "stream",
     "text": [
      "(100, 2)\n",
      "(100,)\n"
     ]
    }
   ],
   "source": [
    "# print(list(data2.keys()))\n",
    "data2_X = data2['x']\n",
    "data2_Y = data2['y']\n",
    "\n",
    "data2X_Values = np.array(data2_X.value)\n",
    "data2Y_Values = np.array(data2_Y.value)\n",
    "\n",
    "print(data2X_Values.shape)\n",
    "print(data2Y_Values.shape)\n",
    "\n",
    "data2X_train, data2X_test, data2Y_train, data2Y_test = train_test_split(data2X_Values, data2Y_Values, test_size=0.2,\n",
    "                                                                        random_state=3)"
   ]
  },
  {
   "cell_type": "code",
   "execution_count": 15,
   "metadata": {},
   "outputs": [
    {
     "name": "stderr",
     "output_type": "stream",
     "text": [
      "/home/subhani007/.local/lib/python3.6/site-packages/sklearn/svm/base.py:196: FutureWarning: The default value of gamma will change from 'auto' to 'scale' in version 0.22 to account better for unscaled features. Set gamma explicitly to 'auto' or 'scale' to avoid this warning.\n",
      "  \"avoid this warning.\", FutureWarning)\n"
     ]
    },
    {
     "data": {
      "text/plain": [
       "SVC(C=1.0, cache_size=200, class_weight=None, coef0=0.0,\n",
       "  decision_function_shape='ovr', degree=3, gamma='auto_deprecated',\n",
       "  kernel='rbf', max_iter=-1, probability=False, random_state=None,\n",
       "  shrinking=True, tol=0.001, verbose=False)"
      ]
     },
     "execution_count": 15,
     "metadata": {},
     "output_type": "execute_result"
    }
   ],
   "source": [
    "model2 = svm.SVC(kernel='rbf')\n",
    "\n",
    "model2.fit(data2X_train, data2Y_train)\n",
    "\n",
    "# print(model2)"
   ]
  },
  {
   "cell_type": "code",
   "execution_count": 16,
   "metadata": {},
   "outputs": [
    {
     "name": "stdout",
     "output_type": "stream",
     "text": [
      "inbuilt f1 for model2: 0.9411764705882353\n"
     ]
    }
   ],
   "source": [
    "print('inbuilt f1 for model2:', f1_score(data2Y_test, model2.predict(data2X_test)))"
   ]
  },
  {
   "cell_type": "code",
   "execution_count": 17,
   "metadata": {},
   "outputs": [
    {
     "name": "stdout",
     "output_type": "stream",
     "text": [
      "intercept 2: [0.11650227]\n",
      "(80, 20)\n",
      "my f1 for model2: 1.0\n"
     ]
    }
   ],
   "source": [
    "bias2 = model2.intercept_\n",
    "print('intercept 2:', bias2)\n",
    "svIndex = model2.support_\n",
    "# print(svIndex)\n",
    "\n",
    "alphas2 = model2.dual_coef_\n",
    "\n",
    "alp = [0] * data2X_train.shape[0]\n",
    "for i in range(0, len(svIndex)):\n",
    "    alp[svIndex[i]] = alphas2[0][i]\n",
    "\n",
    "alphas2 = alp\n",
    "alphas2 = np.asarray(alphas2)\n",
    "sm2 = rbf_kernel(data2X_train, data2X_test, gamma=0.7)\n",
    "\n",
    "print(sm2.shape)\n",
    "out2 = []\n",
    "for i in range(0, len(data2X_test)):\n",
    "    inner = sm2[:, i]\n",
    "    cls = predict(alphas2, inner, bias2)  # my predict function\n",
    "    if (cls >= 0):\n",
    "        out2.append(1)\n",
    "    else:\n",
    "        out2.append(0)\n",
    "\n",
    "print('my f1 for model2:', f1_score(data2Y_test, out2))"
   ]
  },
  {
   "cell_type": "code",
   "execution_count": 18,
   "metadata": {},
   "outputs": [
    {
     "name": "stdout",
     "output_type": "stream",
     "text": [
      "(200, 200) (200, 200) (200, 200)\n",
      "bias2: [0.11650227]\n"
     ]
    }
   ],
   "source": [
    "x_min = -3\n",
    "x_max = 3\n",
    "y_min = -3\n",
    "y_max = 3\n",
    "\n",
    "X = data2X_train\n",
    "Y = data2Y_train\n",
    "\n",
    "XX, YY = np.mgrid[x_min:x_max:200j, y_min:y_max:200j]\n",
    "\n",
    "inp = np.c_[XX.ravel(), YY.ravel()]\n",
    "\n",
    "sm2 = rbf_kernel(data2X_train, inp, gamma=0.7)\n",
    "\n",
    "Z = []\n",
    "for i in range(0, len(inp)):\n",
    "    inner = sm2[:, i]\n",
    "    cls = predict(alphas2, inner, bias2)  # my predict function\n",
    "    Z.append(cls)\n",
    "\n",
    "# Z = model2.decision_function(inp)\n",
    "\n",
    "Z = np.asarray(Z)\n",
    "Z = Z.reshape(XX.shape)\n",
    "\n",
    "print(XX.shape, YY.shape, Z.shape)\n",
    "print('bias2:', bias2)"
   ]
  },
  {
   "cell_type": "code",
   "execution_count": 20,
   "metadata": {},
   "outputs": [
    {
     "name": "stdout",
     "output_type": "stream",
     "text": [
      "-------------------------------------------\n"
     ]
    },
    {
     "data": {
      "image/png": "[encoded data removed]",
      "text/plain": [
       "<Figure size 432x288 with 1 Axes>"
      ]
     },
     "metadata": {},
     "output_type": "display_data"
    }
   ],
   "source": [
    "# mt.subplot(222)\n",
    "mt.pcolormesh(XX, YY, Z > 0, cmap=mt.cm.Paired)\n",
    "mt.contour(XX, YY, Z > 0, colors=['k', 'k', 'k'], linestyles=['--', '-', '--'], levels=[-bias2, 0, bias2])\n",
    "\n",
    "mt.scatter(X[:, 0], X[:, 1], c=Y)\n",
    "\n",
    "mt.xlim(x_min, x_max)\n",
    "mt.ylim(y_min, y_max)\n",
    "mt.xticks(())\n",
    "mt.yticks(())\n",
    "mt.axis('tight')\n",
    "\n",
    "print('-------------------------------------------')"
   ]
  },
  {
   "cell_type": "markdown",
   "metadata": {},
   "source": [
    "# Data_3"
   ]
  },
  {
   "cell_type": "code",
   "execution_count": 21,
   "metadata": {},
   "outputs": [],
   "source": [
    "#\n",
    "# #\n",
    "# # print(list(data3.keys()))\n",
    "# data3_X = data3['x']\n",
    "# data3_Y = data3['y']\n",
    "#\n",
    "# data3X_Values = np.array(data3_X.value)\n",
    "# data3Y_Values = np.array(data3_Y.value)\n",
    "#\n",
    "# print(data3X_Values.shape)\n",
    "# print(data3Y_Values.shape)\n",
    "# data3X_train, data3X_test, data3Y_train, data3Y_test = train_test_split(data3X_Values, data3Y_Values, test_size=0.2,\n",
    "#                                                                         random_state=3)\n",
    "#\n",
    "# model3 = svm.SVC(kernel='rbf')\n",
    "#\n",
    "# model3.fit(data3X_train, data3Y_train)\n",
    "#\n",
    "# # print(model3)\n",
    "#\n",
    "# # print('intercept 3:', model3.intercept_)\n",
    "# print('f1 for model3:', f1_score(data3Y_test, model3.predict(data3X_test)))\n",
    "# #\n",
    "# print('-------------------------------------------')"
   ]
  },
  {
   "cell_type": "markdown",
   "metadata": {},
   "source": [
    "# Data_4"
   ]
  },
  {
   "cell_type": "code",
   "execution_count": 22,
   "metadata": {},
   "outputs": [
    {
     "name": "stdout",
     "output_type": "stream",
     "text": [
      "(2000, 2)\n",
      "(2000,)\n"
     ]
    }
   ],
   "source": [
    "# print(list(data4.keys()))\n",
    "data4_X = data4['x']\n",
    "data4_Y = data4['y']\n",
    "\n",
    "data4X_Values = np.array(data4_X.value)\n",
    "data4Y_Values = np.array(data4_Y.value)\n",
    "\n",
    "print(data4X_Values.shape)\n",
    "print(data4Y_Values.shape)\n",
    "\n",
    "data4X_train, data4X_test, data4Y_train, data4Y_test = train_test_split(data4X_Values, data4Y_Values, test_size=0.2,\n",
    "                                                                        random_state=3)"
   ]
  },
  {
   "cell_type": "code",
   "execution_count": 23,
   "metadata": {},
   "outputs": [
    {
     "name": "stderr",
     "output_type": "stream",
     "text": [
      "/home/subhani007/.local/lib/python3.6/site-packages/sklearn/svm/base.py:196: FutureWarning: The default value of gamma will change from 'auto' to 'scale' in version 0.22 to account better for unscaled features. Set gamma explicitly to 'auto' or 'scale' to avoid this warning.\n",
      "  \"avoid this warning.\", FutureWarning)\n"
     ]
    },
    {
     "data": {
      "text/plain": [
       "SVC(C=1.0, cache_size=200, class_weight=None, coef0=0.0,\n",
       "  decision_function_shape='ovr', degree=3, gamma='auto_deprecated',\n",
       "  kernel='rbf', max_iter=-1, probability=False, random_state=None,\n",
       "  shrinking=True, tol=0.001, verbose=False)"
      ]
     },
     "execution_count": 23,
     "metadata": {},
     "output_type": "execute_result"
    }
   ],
   "source": [
    "model4 = svm.SVC(kernel='rbf')\n",
    "\n",
    "model4.fit(data4X_train, data4Y_train)\n",
    "\n",
    "# print(model4)"
   ]
  },
  {
   "cell_type": "code",
   "execution_count": 24,
   "metadata": {},
   "outputs": [
    {
     "name": "stdout",
     "output_type": "stream",
     "text": [
      "inbuilt f1 for model4: 0.8475452196382429\n"
     ]
    }
   ],
   "source": [
    "print('inbuilt f1 for model4:', f1_score(data4Y_test, model4.predict(data4X_test)))"
   ]
  },
  {
   "cell_type": "code",
   "execution_count": 25,
   "metadata": {},
   "outputs": [
    {
     "name": "stdout",
     "output_type": "stream",
     "text": [
      "intercept 4: [-4.18883444]\n",
      "(1600, 400)\n",
      "my f1 for model4: 0.8491048593350383\n"
     ]
    }
   ],
   "source": [
    "bias4 = model4.intercept_\n",
    "print('intercept 4:', bias4)\n",
    "svIndex = model4.support_\n",
    "# print(svIndex)\n",
    "\n",
    "alphas4 = model4.dual_coef_\n",
    "\n",
    "alp = [0] * data4X_train.shape[0]\n",
    "for i in range(0, len(svIndex)):\n",
    "    alp[svIndex[i]] = alphas4[0][i]\n",
    "\n",
    "alphas4 = alp\n",
    "alphas4 = np.asarray(alphas4)\n",
    "sm4 = rbf_kernel(data4X_train, data4X_test, gamma=0.7)\n",
    "\n",
    "print(sm4.shape)\n",
    "out4 = []\n",
    "for i in range(0, len(data4X_test)):\n",
    "    inner = sm4[:, i]\n",
    "    cls = predict(alphas4, inner, bias4)  # my predict function\n",
    "    if (cls >= 0):\n",
    "        out4.append(1)\n",
    "    else:\n",
    "        out4.append(0)\n",
    "\n",
    "print('my f1 for model4:', f1_score(data4Y_test, out4))"
   ]
  },
  {
   "cell_type": "code",
   "execution_count": 26,
   "metadata": {},
   "outputs": [
    {
     "name": "stdout",
     "output_type": "stream",
     "text": [
      "(200, 200) (200, 200) (200, 200)\n",
      "bias4: [-4.18883444]\n"
     ]
    }
   ],
   "source": [
    "x_min = -3\n",
    "x_max = 3\n",
    "y_min = -3\n",
    "y_max = 3\n",
    "\n",
    "X = data4X_train\n",
    "Y = data4Y_train\n",
    "\n",
    "XX, YY = np.mgrid[x_min:x_max:200j, y_min:y_max:200j]\n",
    "\n",
    "inp = np.c_[XX.ravel(), YY.ravel()]\n",
    "\n",
    "sm4 = rbf_kernel(data4X_train, inp, gamma=0.7)\n",
    "\n",
    "Z = []\n",
    "for i in range(0, len(inp)):\n",
    "    inner = sm4[:, i]\n",
    "    cls = predict(alphas4, inner, bias4)  # my predict function\n",
    "    Z.append(cls)\n",
    "\n",
    "# Z = model4.decision_function(inp)\n",
    "\n",
    "Z = np.asarray(Z)\n",
    "Z = Z.reshape(XX.shape)\n",
    "\n",
    "print(XX.shape, YY.shape, Z.shape)\n",
    "print('bias4:', bias4)"
   ]
  },
  {
   "cell_type": "code",
   "execution_count": 27,
   "metadata": {},
   "outputs": [
    {
     "name": "stderr",
     "output_type": "stream",
     "text": [
      "/home/subhani007/.local/lib/python3.6/site-packages/matplotlib/contour.py:1243: UserWarning: No contour levels were found within the data range.\n",
      "  warnings.warn(\"No contour levels were found\"\n"
     ]
    },
    {
     "name": "stdout",
     "output_type": "stream",
     "text": [
      "-------------------------------------------\n"
     ]
    },
    {
     "data": {
      "image/png": "[encoded data removed]",
      "text/plain": [
       "<Figure size 432x288 with 1 Axes>"
      ]
     },
     "metadata": {},
     "output_type": "display_data"
    }
   ],
   "source": [
    "# mt.subplot(224)\n",
    "mt.pcolormesh(XX, YY, Z > 0, cmap=mt.cm.Paired)\n",
    "mt.contour(XX, YY, Z > 0, colors=['k', 'k', 'k'], linestyles=['--', '-', '--'], levels=[-bias4, 0, bias4])\n",
    "\n",
    "mt.scatter(X[:, 0], X[:, 1], c=Y, s=1)\n",
    "\n",
    "mt.xlim(x_min, x_max)\n",
    "mt.ylim(y_min, y_max)\n",
    "mt.xticks(())\n",
    "mt.yticks(())\n",
    "mt.axis('tight')\n",
    "\n",
    "print('-------------------------------------------')"
   ]
  },
  {
   "cell_type": "code",
   "execution_count": 28,
   "metadata": {},
   "outputs": [],
   "source": [
    "mt.show()"
   ]
  },
  {
   "cell_type": "code",
   "execution_count": null,
   "metadata": {},
   "outputs": [],
   "source": []
  }
 ],
 "metadata": {
  "kernelspec": {
   "display_name": "Python 3",
   "language": "python",
   "name": "python3"
  },
  "language_info": {
   "codemirror_mode": {
    "name": "ipython",
    "version": 3
   },
   "file_extension": ".py",
   "mimetype": "text/x-python",
   "name": "python",
   "nbconvert_exporter": "python",
   "pygments_lexer": "ipython3",
   "version": "3.6.8"
  }
 },
 "nbformat": 4,
 "nbformat_minor": 2
}

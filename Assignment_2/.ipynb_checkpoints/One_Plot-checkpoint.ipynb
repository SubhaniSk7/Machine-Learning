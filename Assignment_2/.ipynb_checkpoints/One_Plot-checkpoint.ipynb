{
 "cells": [
  {
   "cell_type": "code",
   "execution_count": 4,
   "metadata": {},
   "outputs": [],
   "source": [
    "import pandas as pd\n",
    "import math\n",
    "\n",
    "import sklearn.linear_model\n",
    "import sklearn.model_selection\n",
    "# from sklearn import cross_validation\n",
    "import random\n",
    "import matplotlib.pyplot as mt\n",
    "import numpy as np\n",
    "from sklearn import preprocessing\n",
    "import xlrd\n",
    "import h5py"
   ]
  },
  {
   "cell_type": "code",
   "execution_count": 5,
   "metadata": {},
   "outputs": [],
   "source": [
    "data1 = h5py.File('/mnt/Education/Sem1/ML/Assignments/Assignment_2/hw-2_20119/data_1.h5', 'r+')\n",
    "data2 = h5py.File('/mnt/Education/Sem1/ML/Assignments/Assignment_2/hw-2_20119/data_2.h5', 'r+')\n",
    "data3 = h5py.File('/mnt/Education/Sem1/ML/Assignments/Assignment_2/hw-2_20119/data_3.h5', 'r+')\n",
    "data4 = h5py.File('/mnt/Education/Sem1/ML/Assignments/Assignment_2/hw-2_20119/data_4.h5', 'r+')"
   ]
  },
  {
   "cell_type": "code",
   "execution_count": 6,
   "metadata": {},
   "outputs": [
    {
     "name": "stdout",
     "output_type": "stream",
     "text": [
      "['x', 'y']\n",
      "(100, 2)\n",
      "(100,)\n",
      "y classes: {0, 1}\n",
      "50\n",
      "50\n",
      "-------------------------------------------\n"
     ]
    },
    {
     "data": {
      "image/png": "[encoded data removed]",
      "text/plain": [
       "<Figure size 432x288 with 1 Axes>"
      ]
     },
     "metadata": {
      "needs_background": "light"
     },
     "output_type": "display_data"
    }
   ],
   "source": [
    "print(list(data1.keys()))\n",
    "data1_X = data1['x']\n",
    "data1_Y = data1['y']\n",
    "\n",
    "data1X_Values = np.array(data1_X.value)\n",
    "data1Y_Values = np.array(data1_Y.value)\n",
    "print(data1X_Values.shape)\n",
    "print(data1Y_Values.shape)\n",
    "\n",
    "data1X_x1 = []\n",
    "data1X_x2 = []\n",
    "for i in data1X_Values:\n",
    "    data1X_x1.append(i[0])\n",
    "    data1X_x2.append(i[1])\n",
    "\n",
    "data1Y_0 = np.where(data1Y_Values == 0)  # getting indices where y=0\n",
    "data1Y_1 = np.where(data1Y_Values == 1)  # getting indices where y=1\n",
    "\n",
    "data1Y_0 = list(data1Y_0[0])\n",
    "data1Y_1 = list(data1Y_1[0])\n",
    "# print(data1Y_0)\n",
    "# print(data1Y_1)\n",
    "\n",
    "pdata1_x1_0 = []  # plot data1_ x1 where y=0\n",
    "pdata1_x2_0 = []  # plot data1_ x2 where y=0\n",
    "pdata1_x1_1 = []  # plot data1_ x1 where y=1\n",
    "pdata1_x2_1 = []  # plot data1_ x1 where y=1\n",
    "for i in data1Y_0:\n",
    "    x1 = data1X_x1[i]\n",
    "    x2 = data1X_x2[i]\n",
    "    pdata1_x1_0.append(x1)\n",
    "    pdata1_x2_0.append(x2)\n",
    "\n",
    "for i in data1Y_1:\n",
    "    # print(i)\n",
    "    x1 = data1X_x1[i]\n",
    "    x2 = data1X_x2[i]\n",
    "    # print(x1, '   ', x2)\n",
    "    pdata1_x1_1.append(x1)\n",
    "    pdata1_x2_1.append(x2)\n",
    "\n",
    "print('y classes:',set(data1Y_Values))\n",
    "print(len(pdata1_x1_0))\n",
    "print(len(pdata1_x1_1))\n",
    "\n",
    "mt.subplot(221)\n",
    "# mt.scatter(pdata1_x1_0, pdata1_x2_0, marker='o')\n",
    "# mt.scatter(pdata1_x1_1, pdata1_x2_1, marker='+')\n",
    "mt.scatter(data1X_x1, data1X_x2, marker='+', c=data1Y_Values)\n",
    "\n",
    "print('-------------------------------------------')"
   ]
  },
  {
   "cell_type": "code",
   "execution_count": 7,
   "metadata": {},
   "outputs": [
    {
     "name": "stdout",
     "output_type": "stream",
     "text": [
      "['x', 'y']\n",
      "(100, 2)\n",
      "(100,)\n",
      "y classes: {0, 1}\n",
      "50\n",
      "50\n",
      "-------------------------------------------\n"
     ]
    },
    {
     "data": {
      "image/png": "[encoded data removed]",
      "text/plain": [
       "<Figure size 432x288 with 1 Axes>"
      ]
     },
     "metadata": {
      "needs_background": "light"
     },
     "output_type": "display_data"
    }
   ],
   "source": [
    "print(list(data2.keys()))\n",
    "data2_X = data2['x']\n",
    "data2_Y = data2['y']\n",
    "\n",
    "data2X_Values = np.array(data2_X.value)\n",
    "data2Y_Values = np.array(data2_Y.value)\n",
    "\n",
    "print(data2X_Values.shape)\n",
    "print(data2Y_Values.shape)\n",
    "\n",
    "data2X_x1 = []\n",
    "data2X_x2 = []\n",
    "for i in data2X_Values:\n",
    "    data2X_x1.append(i[0])\n",
    "    data2X_x2.append(i[1])\n",
    "\n",
    "data2Y_0 = np.where(data2Y_Values == 0)  # getting indices where y=0\n",
    "data2Y_1 = np.where(data2Y_Values == 1)  # getting indices where y=1\n",
    "\n",
    "data2Y_0 = list(data2Y_0[0])\n",
    "data2Y_1 = list(data2Y_1[0])\n",
    "\n",
    "pdata2_x1_0 = []  # plot data2_ x1 where y=0\n",
    "pdata2_x2_0 = []  # plot data2_ x2 where y=0\n",
    "pdata2_x1_1 = []  # plot data2_ x1 where y=1\n",
    "pdata2_x2_1 = []  # plot data2_ x1 where y=1\n",
    "for i in data2Y_0:\n",
    "    x1 = data2X_x1[i]\n",
    "    x2 = data2X_x2[i]\n",
    "    pdata2_x1_0.append(x1)\n",
    "    pdata2_x2_0.append(x2)\n",
    "\n",
    "for i in data2Y_1:\n",
    "    # print(i)\n",
    "    x1 = data2X_x1[i]\n",
    "    x2 = data2X_x2[i]\n",
    "    pdata2_x1_1.append(x1)\n",
    "    pdata2_x2_1.append(x2)\n",
    "\n",
    "print('y classes:',set(data2Y_Values))\n",
    "print(len(pdata2_x1_0))\n",
    "print(len(pdata2_x1_1))\n",
    "\n",
    "mt.subplot(222)\n",
    "# mt.scatter(pdata2_x1_0, pdata2_x2_0, marker='o')\n",
    "# mt.scatter(pdata2_x1_1, pdata2_x2_1, marker='+')\n",
    "mt.scatter(data2X_x1, data2X_x2, marker='+', c=data2Y_Values)\n",
    "\n",
    "print('-------------------------------------------')"
   ]
  },
  {
   "cell_type": "code",
   "execution_count": 8,
   "metadata": {},
   "outputs": [
    {
     "name": "stdout",
     "output_type": "stream",
     "text": [
      "['x', 'y']\n",
      "(100, 2)\n",
      "(100,)\n",
      "y classes: {0, 1, 2}\n",
      "34\n",
      "66\n",
      "-------------------------------------------\n"
     ]
    },
    {
     "data": {
      "image/png": "[encoded data removed]",
      "text/plain": [
       "<Figure size 432x288 with 1 Axes>"
      ]
     },
     "metadata": {
      "needs_background": "light"
     },
     "output_type": "display_data"
    }
   ],
   "source": [
    "print(list(data3.keys()))\n",
    "data3_X = data3['x']\n",
    "data3_Y = data3['y']\n",
    "\n",
    "data3X_Values = np.array(data3_X.value)\n",
    "data3Y_Values = np.array(data3_Y.value)\n",
    "\n",
    "print(data3X_Values.shape)\n",
    "print(data3Y_Values.shape)\n",
    "\n",
    "data3X_x1 = []\n",
    "data3X_x2 = []\n",
    "for i in data3X_Values:\n",
    "    data3X_x1.append(i[0])\n",
    "    data3X_x2.append(i[1])\n",
    "\n",
    "data3Y_0 = np.where(data3Y_Values == 0)  # getting indices where y=0\n",
    "data3Y_1 = np.where(data3Y_Values == 1)  # getting indices where y=1\n",
    "data3Y_2 = np.where(data3Y_Values == 2)  # getting indices where y=1\n",
    "\n",
    "data3Y_0 = list(data3Y_0[0])\n",
    "data3Y_1 = list(data3Y_1[0])\n",
    "data3Y_2 = list(data3Y_2[0])\n",
    "\n",
    "pdata3_x1_0 = []  # plot data3_ x1 where y=0\n",
    "pdata3_x2_0 = []  # plot data3_ x2 where y=0\n",
    "pdata3_x1_1 = []  # plot data3_ x1 where y=1\n",
    "pdata3_x2_1 = []  # plot data3_ x1 where y=1\n",
    "for i in data3Y_0:\n",
    "    x1 = data3X_x1[i]\n",
    "    x2 = data3X_x2[i]\n",
    "    pdata3_x1_0.append(x1)\n",
    "    pdata3_x2_0.append(x2)\n",
    "\n",
    "for i in data3Y_1:\n",
    "    x1 = data3X_x1[i]\n",
    "    x2 = data3X_x2[i]\n",
    "    pdata3_x1_1.append(x1)\n",
    "    pdata3_x2_1.append(x2)\n",
    "\n",
    "for i in data3Y_2:\n",
    "    x1 = data3X_x1[i]\n",
    "    x2 = data3X_x2[i]\n",
    "    pdata3_x1_1.append(x1)\n",
    "    pdata3_x2_1.append(x2)\n",
    "\n",
    "print('y classes:',set(data3Y_Values))\n",
    "print(len(pdata3_x1_0))\n",
    "print(len(pdata3_x1_1))\n",
    "\n",
    "mt.subplot(223)\n",
    "# mt.scatter(pdata3_x1_0, pdata3_x2_0, marker='o')\n",
    "# mt.scatter(pdata3_x1_1, pdata3_x2_1, marker='+')\n",
    "mt.scatter(data3X_x1, data3X_x2, marker='+', c=data3Y_Values)\n",
    "\n",
    "print('-------------------------------------------')"
   ]
  },
  {
   "cell_type": "code",
   "execution_count": 9,
   "metadata": {
    "scrolled": false
   },
   "outputs": [
    {
     "name": "stdout",
     "output_type": "stream",
     "text": [
      "['x', 'y']\n",
      "(2000, 2)\n",
      "(2000,)\n",
      "y classes: {0, 1}\n",
      "1000\n",
      "1000\n",
      "-------------------------------------------\n"
     ]
    },
    {
     "data": {
      "image/png": "[encoded data removed]",
      "text/plain": [
       "<Figure size 432x288 with 1 Axes>"
      ]
     },
     "metadata": {
      "needs_background": "light"
     },
     "output_type": "display_data"
    }
   ],
   "source": [
    "print(list(data4.keys()))\n",
    "data4_X = data4['x']\n",
    "data4_Y = data4['y']\n",
    "\n",
    "data4X_Values = np.array(data4_X.value)\n",
    "data4Y_Values = np.array(data4_Y.value)\n",
    "\n",
    "print(data4X_Values.shape)\n",
    "print(data4Y_Values.shape)\n",
    "\n",
    "data4X_x1 = []\n",
    "data4X_x2 = []\n",
    "for i in data4X_Values:\n",
    "    data4X_x1.append(i[0])\n",
    "    data4X_x2.append(i[1])\n",
    "\n",
    "print('y classes:',set(data4Y_Values))\n",
    "data4Y_0 = np.where(data4Y_Values == 0)  # getting indices where y=0\n",
    "data4Y_1 = np.where(data4Y_Values == 1)  # getting indices where y=1\n",
    "data4Y_2 = np.where(data4Y_Values == 2)  # getting indices where y=1\n",
    "\n",
    "data4Y_0 = list(data4Y_0[0])\n",
    "data4Y_1 = list(data4Y_1[0])\n",
    "data4Y_2 = list(data4Y_2[0])\n",
    "\n",
    "pdata4_x1_0 = []  # plot data4_ x1 where y=0\n",
    "pdata4_x2_0 = []  # plot data4_ x2 where y=0\n",
    "pdata4_x1_1 = []  # plot data4_ x1 where y=1\n",
    "pdata4_x2_1 = []  # plot data4_ x1 where y=1\n",
    "for i in data4Y_0:\n",
    "    x1 = data4X_x1[i]\n",
    "    x2 = data4X_x2[i]\n",
    "    pdata4_x1_0.append(x1)\n",
    "    pdata4_x2_0.append(x2)\n",
    "\n",
    "for i in data4Y_1:\n",
    "    x1 = data4X_x1[i]\n",
    "    x2 = data4X_x2[i]\n",
    "    pdata4_x1_1.append(x1)\n",
    "    pdata4_x2_1.append(x2)\n",
    "\n",
    "for i in data4Y_2:\n",
    "    x1 = data4X_x1[i]\n",
    "    x2 = data4X_x2[i]\n",
    "    pdata4_x1_1.append(x1)\n",
    "    pdata4_x2_1.append(x2)\n",
    "\n",
    "\n",
    "\n",
    "# print(data4Y_Values)\n",
    "print(len(pdata4_x1_0))\n",
    "print(len(pdata4_x1_1))\n",
    "\n",
    "mt.subplot(224)\n",
    "# mt.scatter(pdata4_x1_0, pdata4_x2_0, marker='o')\n",
    "# mt.scatter(pdata4_x1_1, pdata4_x2_1, marker='+')\n",
    "mt.scatter(data4X_x1, data4X_x2, marker='+', c=data4Y_Values)\n",
    "\n",
    "print('-------------------------------------------')"
   ]
  },
  {
   "cell_type": "code",
   "execution_count": 10,
   "metadata": {},
   "outputs": [],
   "source": [
    "mt.show()"
   ]
  }
 ],
 "metadata": {
  "kernelspec": {
   "display_name": "Python 3",
   "language": "python",
   "name": "python3"
  },
  "language_info": {
   "codemirror_mode": {
    "name": "ipython",
    "version": 3
   },
   "file_extension": ".py",
   "mimetype": "text/x-python",
   "name": "python",
   "nbconvert_exporter": "python",
   "pygments_lexer": "ipython3",
   "version": "3.6.7"
  }
 },
 "nbformat": 4,
 "nbformat_minor": 2
}

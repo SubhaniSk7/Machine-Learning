{
 "cells": [
  {
   "cell_type": "code",
   "execution_count": null,
   "metadata": {},
   "outputs": [],
   "source": [
    "from sklearn import svm\n",
    "from sklearn import metrics\n",
    "from sklearn.metrics import classification_report\n",
    "import numpy as np\n",
    "import matplotlib.pyplot as plt\n",
    "from sklearn.model_selection import cross_val_score\n",
    "import imageio\n",
    "import glob\n",
    "from sklearn.model_selection import GridSearchCV\n",
    "from sklearn import preprocessing\n",
    "from sklearn.metrics import f1_score\n",
    "import pandas as pd\n",
    "import seaborn as sn\n",
    "from sklearn.manifold import TSNE"
   ]
  },
  {
   "cell_type": "markdown",
   "metadata": {},
   "source": [
    "# Loading Training Data Images"
   ]
  },
  {
   "cell_type": "code",
   "execution_count": null,
   "metadata": {},
   "outputs": [],
   "source": [
    "x_train=[]\n",
    "y_train=[]\n",
    "\n",
    "data_ka=[]\n",
    "label_ka=[]\n",
    "for im_path in glob.glob(\"/mnt/Education/Sem1/ML/Assignments/Assignment_2/hw-2_20119/Train_val_Handwritten_Hindi_dataset/Train_val/character_1_ka/*.png\"):\n",
    "    im = imageio.imread(im_path)\n",
    "    im=im.ravel()\n",
    "    lis=list(im)\n",
    "    data_ka.append(lis)\n",
    "    label_ka.append(0)\n",
    "print(len(data_ka))\n",
    "\n",
    "for i in range(0,1700):\n",
    "    x_train.append(data_ka[i])\n",
    "    y_train.append(label_ka[i])\n",
    "    \n",
    "print(len(x_train),' ',len(y_train))\n",
    "\n",
    "\n",
    "data_kha=[]\n",
    "label_kha=[]\n",
    "for im_path in glob.glob(\"/mnt/Education/Sem1/ML/Assignments/Assignment_2/hw-2_20119/Train_val_Handwritten_Hindi_dataset/Train_val/character_1_kha/*.png\"):\n",
    "    im = imageio.imread(im_path)\n",
    "    im=im.ravel()\n",
    "    lis=list(im)\n",
    "    data_kha.append(lis)\n",
    "    label_kha.append(1)\n",
    "\n",
    "    \n",
    "for i in range(0,1700):\n",
    "    x_train.append(data_kha[i])\n",
    "    y_train.append(label_kha[i])\n",
    "    \n",
    "print(len(x_train),' ',len(y_train))\n",
    "\n",
    "\n",
    "data_ga=[]\n",
    "label_ga=[]\n",
    "for im_path in glob.glob(\"/mnt/Education/Sem1/ML/Assignments/Assignment_2/hw-2_20119/Train_val_Handwritten_Hindi_dataset/Train_val/character_1_ga/*.png\"):\n",
    "    im = imageio.imread(im_path)\n",
    "    im=im.ravel()\n",
    "    lis=list(im)\n",
    "    data_ga.append(lis)\n",
    "    label_ga.append(2)\n",
    "\n",
    "for i in range(0,1700):\n",
    "    x_train.append(data_ga[i])\n",
    "    y_train.append(label_ga[i])\n",
    "    \n",
    "print(len(x_train),' ',len(y_train))\n",
    "\n",
    "\n",
    "data_gha=[]\n",
    "label_gha=[]\n",
    "for im_path in glob.glob(\"/mnt/Education/Sem1/ML/Assignments/Assignment_2/hw-2_20119/Train_val_Handwritten_Hindi_dataset/Train_val/character_1_gha/*.png\"):\n",
    "    im = imageio.imread(im_path)\n",
    "    im=im.ravel()\n",
    "    lis=list(im)\n",
    "    data_gha.append(lis)\n",
    "    label_gha.append(3)\n",
    "    \n",
    "for i in range(0,1700):\n",
    "    x_train.append(data_gha[i])\n",
    "    y_train.append(label_gha[i])\n",
    "    \n",
    "print(len(x_train),' ',len(y_train))\n",
    "\n",
    "\n",
    "data_kna=[]\n",
    "label_kna=[]\n",
    "for im_path in glob.glob(\"/mnt/Education/Sem1/ML/Assignments/Assignment_2/hw-2_20119/Train_val_Handwritten_Hindi_dataset/Train_val/character_1_kna/*.png\"):\n",
    "    im = imageio.imread(im_path)\n",
    "    im=im.ravel()\n",
    "    lis=list(im)\n",
    "    data_kna.append(lis)\n",
    "    label_kna.append(4)\n",
    "    \n",
    "for i in range(0,1700):\n",
    "    x_train.append(data_kna[i])\n",
    "    y_train.append(label_kna[i])\n",
    "    \n",
    "print(len(x_train),' ',len(y_train))\n",
    "\n",
    "\n",
    "x_train=np.asarray(x_train)\n",
    "y_train=np.asarray(y_train)\n",
    "\n",
    "print(x_train.shape,y_train.shape)\n",
    "\n",
    "label_ka=np.asarray(label_ka)\n",
    "print(label_ka.shape)"
   ]
  },
  {
   "cell_type": "markdown",
   "metadata": {},
   "source": [
    "## Preprocessing train data"
   ]
  },
  {
   "cell_type": "code",
   "execution_count": null,
   "metadata": {},
   "outputs": [],
   "source": [
    "X_scaled = preprocessing.scale(x_train)"
   ]
  },
  {
   "cell_type": "markdown",
   "metadata": {},
   "source": [
    "## SVM Kernel"
   ]
  },
  {
   "cell_type": "code",
   "execution_count": null,
   "metadata": {},
   "outputs": [],
   "source": [
    "tuned_parameters = [{'C': [10**-4, 10**-2, 10**0, 10**2, 10**4]}]\n",
    "\n",
    "model=GridSearchCV(svm.SVC(kernel='rbf'), tuned_parameters,  cv=2,n_jobs=-1)\n",
    "\n",
    "# model=svm.SVC(kernel='rbf')\n",
    "model.fit(X_scaled,y_train)\n",
    "\n",
    "scores=cross_val_score(model,X_scaled,y_train,cv=2,scoring='f1_macro')\n",
    "print(scores)"
   ]
  },
  {
   "cell_type": "markdown",
   "metadata": {},
   "source": [
    "### Sampel Testing on trained model"
   ]
  },
  {
   "cell_type": "code",
   "execution_count": null,
   "metadata": {},
   "outputs": [],
   "source": [
    "# s1=x_train[0]\n",
    "# s1=s1.reshape(1,1024)\n",
    "# print(model.predict(s1))\n",
    "\n",
    "# s2=x_train[1700]\n",
    "# s2=s2.reshape(1,1024)\n",
    "# print(model.predict(s2))\n",
    "\n",
    "\n",
    "# s3=x_train[3400]\n",
    "# s3=s3.reshape(1,1024)\n",
    "# print(model.predict(s3))\n",
    "\n",
    "# s4=x_train[5100]\n",
    "# s4=s4.reshape(1,1024)\n",
    "# print(model.predict(s4))\n",
    "\n",
    "# s5=x_train[8400]\n",
    "# s5=s5.reshape(1,1024)\n",
    "# print(model.predict(s5))"
   ]
  },
  {
   "cell_type": "markdown",
   "metadata": {},
   "source": [
    "# Loading Testing Data images"
   ]
  },
  {
   "cell_type": "code",
   "execution_count": null,
   "metadata": {},
   "outputs": [],
   "source": [
    "# -------------------------------------------------------------------------\n",
    "x_test=[]\n",
    "y_test=[]\n",
    "\n",
    "data_test_ka=[]\n",
    "label_test_ka=[]\n",
    "for im_path in glob.glob(\"/mnt/Education/Sem1/ML/Assignments/Assignment_2/hw-2_20119/Test_Handwritten_Hindi_dataset/Test/character_1_ka/*.png\"):\n",
    "    im = imageio.imread(im_path)\n",
    "    im=im.ravel()\n",
    "    lis=list(im)\n",
    "    data_test_ka.append(lis)\n",
    "    label_test_ka.append(0)\n",
    "print(len(data_test_ka))\n",
    "\n",
    "\n",
    "for i in range(0,300):\n",
    "    x_test.append(data_test_ka[i])\n",
    "    y_test.append(label_test_ka[i])\n",
    "    \n",
    "print(len(x_test),' ',len(y_test))\n",
    "\n",
    "\n",
    "data_test_kha=[]\n",
    "label_test_kha=[]\n",
    "for im_path in glob.glob(\"/mnt/Education/Sem1/ML/Assignments/Assignment_2/hw-2_20119/Test_Handwritten_Hindi_dataset/Test/character_1_kha/*.png\"):\n",
    "    im = imageio.imread(im_path)\n",
    "    im=im.ravel()\n",
    "    lis=list(im)\n",
    "    data_test_kha.append(lis)\n",
    "    label_test_kha.append(1)\n",
    "\n",
    "for i in range(0,300):\n",
    "    x_test.append(data_test_kha[i])\n",
    "    y_test.append(label_test_kha[i])\n",
    "    \n",
    "print(len(x_test),' ',len(y_test))\n",
    "\n",
    "\n",
    "data_test_ga=[]\n",
    "label_test_ga=[]\n",
    "for im_path in glob.glob(\"/mnt/Education/Sem1/ML/Assignments/Assignment_2/hw-2_20119/Test_Handwritten_Hindi_dataset/Test/character_1_ga/*.png\"):\n",
    "    im = imageio.imread(im_path)\n",
    "    im=im.ravel()\n",
    "    lis=list(im)\n",
    "    data_test_ga.append(lis)\n",
    "    label_test_ga.append(2)\n",
    "    \n",
    "for i in range(0,300):\n",
    "    x_test.append(data_test_ga[i])\n",
    "    y_test.append(label_test_ga[i])\n",
    "    \n",
    "print(len(x_test),' ',len(y_test))\n",
    "\n",
    "\n",
    "data_test_gha=[]\n",
    "label_test_gha=[]\n",
    "for im_path in glob.glob(\"/mnt/Education/Sem1/ML/Assignments/Assignment_2/hw-2_20119/Test_Handwritten_Hindi_dataset/Test/character_1_gha/*.png\"):\n",
    "    im = imageio.imread(im_path)\n",
    "    im=im.ravel()\n",
    "    lis=list(im)\n",
    "    data_test_gha.append(lis)\n",
    "    label_test_gha.append(3)\n",
    "    \n",
    "for i in range(0,300):\n",
    "    x_test.append(data_test_gha[i])\n",
    "    y_test.append(label_test_gha[i])\n",
    "    \n",
    "print(len(x_test),' ',len(y_test))\n",
    "\n",
    "\n",
    "data_test_kna=[]\n",
    "label_test_kna=[]\n",
    "for im_path in glob.glob(\"/mnt/Education/Sem1/ML/Assignments/Assignment_2/hw-2_20119/Test_Handwritten_Hindi_dataset/Test/character_1_kna/*.png\"):\n",
    "    im = imageio.imread(im_path)\n",
    "    im=im.ravel()\n",
    "    lis=list(im)\n",
    "    data_test_kna.append(lis)\n",
    "    label_test_kna.append(4)\n",
    "\n",
    "    \n",
    "for i in range(0,300):\n",
    "    x_test.append(data_test_kna[i])\n",
    "    y_test.append(label_test_kna[i])\n",
    "    \n",
    "print(len(x_test),' ',len(y_test))\n",
    "\n",
    "\n",
    "x_test=np.asarray(x_test)\n",
    "y_test=np.asarray(y_test)\n",
    "\n",
    "print(x_test.shape,y_test.shape)"
   ]
  },
  {
   "cell_type": "markdown",
   "metadata": {},
   "source": [
    "## Preprocessing test data"
   ]
  },
  {
   "cell_type": "code",
   "execution_count": null,
   "metadata": {},
   "outputs": [],
   "source": [
    "X_test_scaled = preprocessing.scale(x_test)"
   ]
  },
  {
   "cell_type": "markdown",
   "metadata": {},
   "source": [
    "## Predict"
   ]
  },
  {
   "cell_type": "code",
   "execution_count": null,
   "metadata": {},
   "outputs": [],
   "source": [
    "c=model.predict(X_test_scaled)\n",
    "\n",
    "f1=classification_report(y_test, c)\n",
    "print(f1)\n",
    "\n",
    "c1=model.predict(X_scaled)\n",
    "\n",
    "f2=classification_report(y_train, c1)\n",
    "print(f2)"
   ]
  },
  {
   "cell_type": "code",
   "execution_count": null,
   "metadata": {},
   "outputs": [],
   "source": []
  },
  {
   "cell_type": "markdown",
   "metadata": {},
   "source": [
    "# T-SNE"
   ]
  },
  {
   "cell_type": "code",
   "execution_count": null,
   "metadata": {},
   "outputs": [],
   "source": [
    "t=np.random.choice(8500, 2000)\n",
    "rando=X_scaled[t]\n",
    "randoy=y_train[t]"
   ]
  },
  {
   "cell_type": "code",
   "execution_count": null,
   "metadata": {},
   "outputs": [],
   "source": [
    "model_tSNE = TSNE(n_components=2, random_state=0)\n",
    "tsne_data = model_tSNE.fit_transform(rando)\n",
    "tsne_data = np.vstack((tsne_data.T, randoy)).T\n",
    "tsne_df = pd.DataFrame(data=tsne_data, columns=(\"Dim_1\", \"Dim_2\", \"label\"))\n",
    "sn.FacetGrid(tsne_df, hue=\"label\", size=6).map(plt.scatter, 'Dim_1', 'Dim_2').add_legend()\n",
    "\n",
    "plt.show()"
   ]
  },
  {
   "cell_type": "code",
   "execution_count": null,
   "metadata": {},
   "outputs": [],
   "source": []
  }
 ],
 "metadata": {
  "kernelspec": {
   "display_name": "Python 3",
   "language": "python",
   "name": "python3"
  },
  "language_info": {
   "codemirror_mode": {
    "name": "ipython",
    "version": 3
   },
   "file_extension": ".py",
   "mimetype": "text/x-python",
   "name": "python",
   "nbconvert_exporter": "python",
   "pygments_lexer": "ipython3",
   "version": "3.6.8"
  }
 },
 "nbformat": 4,
 "nbformat_minor": 2
}

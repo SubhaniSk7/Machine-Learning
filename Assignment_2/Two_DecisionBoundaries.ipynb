{
 "cells": [
  {
   "cell_type": "code",
   "execution_count": 1,
   "metadata": {},
   "outputs": [],
   "source": [
    "import pandas as pd\n",
    "import math\n",
    "\n",
    "import sklearn.linear_model\n",
    "import sklearn.model_selection\n",
    "import numpy as np\n",
    "from sklearn import preprocessing\n",
    "import xlrd\n",
    "import h5py\n",
    "\n",
    "import copy\n",
    "import numpy.linalg\n",
    "import sklearn.linear_model\n",
    "import sklearn.model_selection\n",
    "import matplotlib.pyplot as mt\n",
    "import numpy as np\n",
    "from sklearn import preprocessing, svm\n",
    "import sklearn.svm\n",
    "from sklearn.metrics import f1_score,classification_report\n",
    "import pandas as pd\n",
    "import math\n",
    "# from sklearn import cross_validation\n",
    "import random\n",
    "import xlrd\n",
    "\n",
    "from mlxtend.plotting import plot_decision_regions"
   ]
  },
  {
   "cell_type": "code",
   "execution_count": 2,
   "metadata": {
    "scrolled": true
   },
   "outputs": [],
   "source": [
    "data1 = h5py.File('/mnt/Education/Sem1/ML/Assignments/Assignment_2/hw-2_20119/data_1.h5', 'r+')\n",
    "data2 = h5py.File('/mnt/Education/Sem1/ML/Assignments/Assignment_2/hw-2_20119/data_2.h5', 'r+')\n",
    "data3 = h5py.File('/mnt/Education/Sem1/ML/Assignments/Assignment_2/hw-2_20119/data_3.h5', 'r+')\n",
    "data4 = h5py.File('/mnt/Education/Sem1/ML/Assignments/Assignment_2/hw-2_20119/data_4.h5', 'r+')"
   ]
  },
  {
   "cell_type": "markdown",
   "metadata": {},
   "source": [
    "# Kernels"
   ]
  },
  {
   "cell_type": "code",
   "execution_count": 3,
   "metadata": {},
   "outputs": [],
   "source": [
    "def polynomialKernel(x, y):\n",
    "    c = 1\n",
    "    d = 2\n",
    "\n",
    "    t = np.transpose(y)\n",
    "    prod = np.dot(x, t)\n",
    "    # c = np.ones([prod.shape[0], prod.shape[1]], dtype=int)\n",
    "    sum = c + prod\n",
    "    p = (sum) ** d\n",
    "\n",
    "    return p\n",
    "\n",
    "\n",
    "def polynomialKernel_2(x, y):\n",
    "    c = 1\n",
    "    d = 3\n",
    "\n",
    "    t = np.transpose(y)\n",
    "    prod = np.dot(x, t)\n",
    "    # c = np.ones([prod.shape[0], prod.shape[1]], dtype=int)\n",
    "    sum = c + prod\n",
    "    p = (sum) ** d\n",
    "\n",
    "    return p\n",
    "\n",
    "\n",
    "def make_meshgrid(x, y, h=.02):\n",
    "    \"\"\"Create a mesh of points to plot in\n",
    "\n",
    "    Parameters\n",
    "    ----------\n",
    "    x: data to base x-axis meshgrid on\n",
    "    y: data to base y-axis meshgrid on\n",
    "    h: stepsize for meshgrid, optional\n",
    "\n",
    "    Returns\n",
    "    -------\n",
    "    xx, yy : ndarray\n",
    "    \"\"\"\n",
    "    x_min, x_max = x.min() - 1, x.max() + 1\n",
    "    y_min, y_max = y.min() - 1, y.max() + 1\n",
    "    xx, yy = np.meshgrid(np.arange(x_min, x_max, h),\n",
    "                         np.arange(y_min, y_max, h))\n",
    "    return xx, yy\n",
    "\n",
    "\n",
    "# ------------------------------------------------------------------------------------------------------"
   ]
  },
  {
   "cell_type": "markdown",
   "metadata": {},
   "source": [
    "# Data1"
   ]
  },
  {
   "cell_type": "code",
   "execution_count": 5,
   "metadata": {},
   "outputs": [],
   "source": [
    "# print(list(data1.keys()))\n",
    "data1_X = data1['x']\n",
    "data1_Y = data1['y']\n",
    "\n",
    "data1X_Values = np.array(data1_X.value)\n",
    "data1Y_Values = np.array(data1_Y.value)\n",
    "# print(data1X_Values.shape)\n",
    "# print(data1Y_Values.shape)"
   ]
  },
  {
   "cell_type": "code",
   "execution_count": 6,
   "metadata": {},
   "outputs": [
    {
     "name": "stdout",
     "output_type": "stream",
     "text": [
      "intercept: [1.85820294]\n",
      "f1 score for model1: 1.0\n"
     ]
    }
   ],
   "source": [
    "model1 = svm.SVC(kernel=polynomialKernel)\n",
    "\n",
    "model1.fit(data1X_Values, data1Y_Values)\n",
    "\n",
    "# print(model1)\n",
    "\n",
    "out1 = model1.predict(data1X_Values)\n",
    "\n",
    "print('intercept:', model1.intercept_)\n",
    "# for i in range(0, 100):\n",
    "#     print(data1Y_Values[i], '-->', out1[i])\n",
    "print('f1 score for model1:', f1_score(data1Y_Values, out1))\n"
   ]
  },
  {
   "cell_type": "code",
   "execution_count": 7,
   "metadata": {},
   "outputs": [
    {
     "name": "stdout",
     "output_type": "stream",
     "text": [
      "-------------------------------------------\n"
     ]
    },
    {
     "data": {
      "image/png": "[encoded data removed]",
      "text/plain": [
       "<Figure size 432x288 with 1 Axes>"
      ]
     },
     "metadata": {
      "needs_background": "light"
     },
     "output_type": "display_data"
    }
   ],
   "source": [
    "X = np.array(data1X_Values)\n",
    "Y = np.array(data1Y_Values)\n",
    "\n",
    "X0, X1 = X[:, 0], X[:, 1]\n",
    "# xx, yy = make_meshgrid(X0, X1)\n",
    "#\n",
    "# Z = model1.predict(np.c_[xx.ravel(), yy.ravel()])\n",
    "# Z = Z.reshape(xx.shape)\n",
    "#\n",
    "# mt.subplot(221)\n",
    "# mt.contourf(xx, yy, Z, cmap=mt.cm.coolwarm, alpha=0.8)\n",
    "\n",
    "mt.subplot(221)\n",
    "mt.scatter(X0, X1, c=Y)\n",
    "\n",
    "plot_decision_regions(X, Y, model1, legend=2)\n",
    "print('-------------------------------------------')"
   ]
  },
  {
   "cell_type": "markdown",
   "metadata": {},
   "source": [
    "# Data2"
   ]
  },
  {
   "cell_type": "code",
   "execution_count": 8,
   "metadata": {},
   "outputs": [
    {
     "name": "stdout",
     "output_type": "stream",
     "text": [
      "['x', 'y']\n"
     ]
    }
   ],
   "source": [
    "print(list(data2.keys()))\n",
    "data2_X = data2['x']\n",
    "data2_Y = data2['y']\n",
    "\n",
    "data2X_Values = np.array(data2_X.value)\n",
    "data2Y_Values = np.array(data2_Y.value)\n",
    "\n",
    "# print(data2X_Values.shape)\n",
    "# print(data2Y_Values.shape)\n"
   ]
  },
  {
   "cell_type": "code",
   "execution_count": 9,
   "metadata": {},
   "outputs": [
    {
     "name": "stdout",
     "output_type": "stream",
     "text": [
      "intercept 2: [1.63867448]\n",
      "f1 for model2: 1.0\n"
     ]
    }
   ],
   "source": [
    "model2 = svm.SVC(kernel=polynomialKernel_2)\n",
    "\n",
    "model2.fit(data2X_Values, data2Y_Values)\n",
    "\n",
    "# print(model2)\n",
    "\n",
    "out2 = model2.predict(data2X_Values)\n",
    "\n",
    "print('intercept 2:', model2.intercept_)\n",
    "# for i in range(0, 100):\n",
    "#     print(data2Y_Values[i], '-->', out2[i])\n",
    "print('f1 for model2:', f1_score(data2Y_Values, out2))\n"
   ]
  },
  {
   "cell_type": "code",
   "execution_count": 10,
   "metadata": {},
   "outputs": [
    {
     "name": "stdout",
     "output_type": "stream",
     "text": [
      "-------------------------------------------\n"
     ]
    },
    {
     "data": {
      "image/png": "[encoded data removed]",
      "text/plain": [
       "<Figure size 432x288 with 1 Axes>"
      ]
     },
     "metadata": {
      "needs_background": "light"
     },
     "output_type": "display_data"
    }
   ],
   "source": [
    "X = np.array(data2X_Values)\n",
    "Y = np.array(data2Y_Values)\n",
    "\n",
    "X0, X1 = X[:, 0], X[:, 1]\n",
    "# xx, yy = make_meshgrid(X0, X1)\n",
    "#\n",
    "# Z = model2.predict(np.c_[xx.ravel(), yy.ravel()])\n",
    "# Z = Z.reshape(xx.shape)\n",
    "#\n",
    "# mt.subplot(222)\n",
    "# mt.contourf(xx, yy, Z, cmap=mt.cm.coolwarm, alpha=0.8)\n",
    "mt.subplot(222)\n",
    "mt.scatter(X0, X1, c=Y)\n",
    "plot_decision_regions(X, Y, model2, legend=2)\n",
    "\n",
    "\n",
    "print('-------------------------------------------')"
   ]
  },
  {
   "cell_type": "code",
   "execution_count": null,
   "metadata": {},
   "outputs": [],
   "source": []
  },
  {
   "cell_type": "markdown",
   "metadata": {},
   "source": [
    "# Data3"
   ]
  },
  {
   "cell_type": "code",
   "execution_count": 11,
   "metadata": {},
   "outputs": [],
   "source": [
    "# print(list(data3.keys()))\n",
    "data3_X = data3['x']\n",
    "data3_Y = data3['y']\n",
    "\n",
    "data3X_Values = np.array(data3_X.value)\n",
    "data3Y_Values = np.array(data3_Y.value)\n",
    "\n",
    "# print(data3X_Values.shape)\n",
    "# print(data3Y_Values.shape)"
   ]
  },
  {
   "cell_type": "code",
   "execution_count": 12,
   "metadata": {},
   "outputs": [
    {
     "name": "stdout",
     "output_type": "stream",
     "text": [
      "intercept 3: [-0.15383757 -2.30391576 -0.03045279]\n",
      "f1 for model3:\n",
      "               precision    recall  f1-score   support\n",
      "\n",
      "           0       1.00      1.00      1.00        34\n",
      "           1       1.00      1.00      1.00        33\n",
      "           2       1.00      1.00      1.00        33\n",
      "\n",
      "   micro avg       1.00      1.00      1.00       100\n",
      "   macro avg       1.00      1.00      1.00       100\n",
      "weighted avg       1.00      1.00      1.00       100\n",
      "\n"
     ]
    },
    {
     "name": "stderr",
     "output_type": "stream",
     "text": [
      "/home/subhani007/.local/lib/python3.6/site-packages/sklearn/svm/base.py:922: ConvergenceWarning: Liblinear failed to converge, increase the number of iterations.\n",
      "  \"the number of iterations.\", ConvergenceWarning)\n"
     ]
    }
   ],
   "source": [
    "model3 = svm.LinearSVC(multi_class='ovr')\n",
    "\n",
    "model3.fit(data3X_Values, data3Y_Values)\n",
    "\n",
    "# print(model3)\n",
    "\n",
    "out3 = model3.predict(data3X_Values)\n",
    "\n",
    "print('intercept 3:', model3.intercept_)\n",
    "# for i in range(0, 100):\n",
    "#     print(data3Y_Values[i], '-->', out3[i])\n",
    "print('f1 for model3:\\n', sklearn.metrics.classification_report(data3Y_Values, out3))"
   ]
  },
  {
   "cell_type": "code",
   "execution_count": 13,
   "metadata": {},
   "outputs": [
    {
     "name": "stdout",
     "output_type": "stream",
     "text": [
      "-------------------------------------------\n"
     ]
    },
    {
     "data": {
      "image/png": "[encoded data removed]",
      "text/plain": [
       "<Figure size 432x288 with 1 Axes>"
      ]
     },
     "metadata": {
      "needs_background": "light"
     },
     "output_type": "display_data"
    }
   ],
   "source": [
    "X = np.array(data3X_Values)\n",
    "Y = np.array(data3Y_Values)\n",
    "\n",
    "X0, X1 = X[:, 0], X[:, 1]\n",
    "# xx, yy = make_meshgrid(X0, X1)\n",
    "#\n",
    "# Z = model2.predict(np.c_[xx.ravel(), yy.ravel()])\n",
    "# Z = Z.reshape(xx.shape)\n",
    "#\n",
    "# mt.subplot(222)\n",
    "# mt.contourf(xx, yy, Z, cmap=mt.cm.coolwarm, alpha=0.8)\n",
    "mt.subplot(223)\n",
    "mt.scatter(X0, X1, c=Y)\n",
    "plot_decision_regions(X, Y, model3, legend=2)\n",
    "\n",
    "print('-------------------------------------------')"
   ]
  },
  {
   "cell_type": "code",
   "execution_count": null,
   "metadata": {},
   "outputs": [],
   "source": []
  },
  {
   "cell_type": "markdown",
   "metadata": {},
   "source": [
    "# Data4"
   ]
  },
  {
   "cell_type": "code",
   "execution_count": 4,
   "metadata": {},
   "outputs": [
    {
     "name": "stdout",
     "output_type": "stream",
     "text": [
      "(2000, 2)\n",
      "(2000,)\n"
     ]
    }
   ],
   "source": [
    "# print(list(data4.keys()))\n",
    "data4_X = data4['x']\n",
    "data4_Y = data4['y']\n",
    "\n",
    "data4X_Values = np.array(data4_X.value)\n",
    "data4Y_Values = np.array(data4_Y.value)\n",
    "\n",
    "print(data4X_Values.shape)\n",
    "print(data4Y_Values.shape)\n",
    "\n"
   ]
  },
  {
   "cell_type": "code",
   "execution_count": 5,
   "metadata": {},
   "outputs": [
    {
     "name": "stdout",
     "output_type": "stream",
     "text": [
      "intercept 4: [2.92246017]\n",
      "f1 for model4: 0.8851317752362009\n"
     ]
    }
   ],
   "source": [
    "model4 = svm.SVC(kernel=polynomialKernel)\n",
    "\n",
    "model4.fit(data4X_Values, data4Y_Values)\n",
    "\n",
    "# print(model4)\n",
    "\n",
    "out4 = model4.predict(data4X_Values)\n",
    "\n",
    "print('intercept 4:', model4.intercept_)\n",
    "# for i in range(0, len(data4X_Values)):\n",
    "#     print(data4Y_Values[i], '-->', out4[i])\n",
    "print('f1 for model4:', f1_score(data4Y_Values, out4))"
   ]
  },
  {
   "cell_type": "code",
   "execution_count": 6,
   "metadata": {},
   "outputs": [],
   "source": [
    "X = np.array(data4X_Values)\n",
    "Y = np.array(data4Y_Values)\n",
    "\n",
    "X0, X1 = X[:, 0], X[:, 1]\n",
    "xx, yy = make_meshgrid(X0, X1)"
   ]
  },
  {
   "cell_type": "code",
   "execution_count": null,
   "metadata": {},
   "outputs": [],
   "source": [
    "Z = model4.predict(np.c_[xx.ravel(), yy.ravel()])\n",
    "Z = Z.reshape(xx.shape)"
   ]
  },
  {
   "cell_type": "code",
   "execution_count": null,
   "metadata": {},
   "outputs": [],
   "source": [
    "# mt.subplot(222)\n",
    "mt.contourf(xx, yy, Z, cmap=mt.cm.coolwarm, alpha=0.8)\n",
    "mt.scatter(X0, X1, c=Y,s=1)"
   ]
  },
  {
   "cell_type": "code",
   "execution_count": null,
   "metadata": {},
   "outputs": [],
   "source": [
    "# plot_decision_regions(X, Y, model4, legend=2)\n",
    "\n",
    "# print('-------------------------------------------')"
   ]
  },
  {
   "cell_type": "code",
   "execution_count": 28,
   "metadata": {},
   "outputs": [],
   "source": [
    "mt.show()"
   ]
  },
  {
   "cell_type": "code",
   "execution_count": null,
   "metadata": {},
   "outputs": [],
   "source": []
  }
 ],
 "metadata": {
  "kernelspec": {
   "display_name": "Python 3",
   "language": "python",
   "name": "python3"
  },
  "language_info": {
   "codemirror_mode": {
    "name": "ipython",
    "version": 3
   },
   "file_extension": ".py",
   "mimetype": "text/x-python",
   "name": "python",
   "nbconvert_exporter": "python",
   "pygments_lexer": "ipython3",
   "version": "3.6.6"
  }
 },
 "nbformat": 4,
 "nbformat_minor": 2
}
